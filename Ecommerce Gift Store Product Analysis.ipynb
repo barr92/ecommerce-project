{
 "cells": [
  {
   "cell_type": "markdown",
   "metadata": {},
   "source": [
    "# Project E-Commerce: Product Range Analysis\n",
    "\n",
    "### Overview\n",
    "\n",
    "We will analyse an ecommerce website Gift Store to evaluate the product catalog. Our goal is to identify the best-selling products and determine the focus areas for future marketing efforts. Additionally, we'll ensure that the online product listings align with the offline inventory, and all items on the website are in stock and available for customers.\n",
    "\n",
    "### Project Objective:\n",
    "\n",
    "<b>The objective of this project is to boost the shop’s revenue by identifying the most popular products and product bundles, as well as the least popular products.</b>\n",
    "\n",
    "### Analysis Scope\n",
    "\n",
    "1) Preprocessing: We will assess the dataset, investigate each column and determine what needs fixing and cleaning.\n",
    "\n",
    "2) Categorisation: We will categorise our product description into smaller categories. We will need to use a lemmetization function in order to assess keywords and then determine which categories are our best sellers.\n",
    "\n",
    "3) Exploration: We'll explore the monthly sales revenue, new and returning customers as well as trying to determine the lifetime value.\n",
    "\n",
    "4) Statistical tests: After the exploration we will use statistical tests in order to test our hypothesis.\n",
    "\n",
    "5) Conclusion and Recommendation: We'll write our client some business recommendations to improve their revenue."
   ]
  },
  {
   "cell_type": "code",
   "execution_count": 1,
   "metadata": {},
   "outputs": [
    {
     "name": "stdout",
     "output_type": "stream",
     "text": [
      "Collecting sidetable\n",
      "  Downloading sidetable-0.9.1-py3-none-any.whl (19 kB)\n",
      "Requirement already satisfied: pandas>=1.0 in /opt/conda/lib/python3.9/site-packages (from sidetable) (1.2.4)\n",
      "Requirement already satisfied: python-dateutil>=2.7.3 in /opt/conda/lib/python3.9/site-packages (from pandas>=1.0->sidetable) (2.8.1)\n",
      "Requirement already satisfied: pytz>=2017.3 in /opt/conda/lib/python3.9/site-packages (from pandas>=1.0->sidetable) (2021.1)\n",
      "Requirement already satisfied: numpy>=1.16.5 in /opt/conda/lib/python3.9/site-packages (from pandas>=1.0->sidetable) (1.21.1)\n",
      "Requirement already satisfied: six>=1.5 in /opt/conda/lib/python3.9/site-packages (from python-dateutil>=2.7.3->pandas>=1.0->sidetable) (1.16.0)\n",
      "Installing collected packages: sidetable\n",
      "Successfully installed sidetable-0.9.1\n"
     ]
    }
   ],
   "source": [
    "!pip install sidetable "
   ]
  },
  {
   "cell_type": "code",
   "execution_count": 2,
   "metadata": {},
   "outputs": [],
   "source": [
    "#Read General libraries\n",
    "import pandas as pd\n",
    "import numpy as np\n",
    "import datetime as dt\n",
    "import scipy.stats as stats\n",
    "import plotly.express as px\n",
    "import sidetable\n",
    "\n",
    "# Read libraries for visualisation\n",
    "import matplotlib as mpl\n",
    "import matplotlib.pyplot as plt\n",
    "import matplotlib.font_manager\n",
    "import plotly.express as px\n",
    "import seaborn as sns\n",
    "\n",
    "#Libraries for categorisation\n",
    "import nltk\n",
    "from nltk.stem import WordNetLemmatizer\n",
    "from nltk.stem import PorterStemmer\n",
    "from collections import Counter\n",
    "\n",
    "# View all columns in large datasets\n",
    "pd.set_option(\"display.max_columns\",None)\n",
    "\n",
    "# Set the styling for the charts\n",
    "sns.set(style='whitegrid')\n",
    "facecolor = '#eaeaea'\n",
    "font_color = '#525252'\n",
    "csfont = {'fontname': 'Liberation Serif'}\n",
    "hfont = {'fontname': 'LiberationSans-Regular'}"
   ]
  },
  {
   "cell_type": "code",
   "execution_count": 3,
   "metadata": {},
   "outputs": [
    {
     "name": "stdout",
     "output_type": "stream",
     "text": [
      "(541909, 7)\n",
      "<class 'pandas.core.frame.DataFrame'>\n",
      "RangeIndex: 541909 entries, 0 to 541908\n",
      "Data columns (total 7 columns):\n",
      " #   Column       Non-Null Count   Dtype  \n",
      "---  ------       --------------   -----  \n",
      " 0   invoiceno    541909 non-null  object \n",
      " 1   stockcode    541909 non-null  object \n",
      " 2   description  540455 non-null  object \n",
      " 3   quantity     541909 non-null  int64  \n",
      " 4   invoicedate  541909 non-null  object \n",
      " 5   unitprice    541909 non-null  float64\n",
      " 6   customerid   406829 non-null  float64\n",
      "dtypes: float64(2), int64(1), object(4)\n",
      "memory usage: 28.9+ MB\n",
      "None\n"
     ]
    }
   ],
   "source": [
    "# Read Data\n",
    "df=pd.read_csv(\"//datasets//ecommerce_dataset_us.csv\",sep='\\t', dtype={'invoiceno': str, 'stockcode': str})\n",
    "df.columns=df.columns.str.lower()\n",
    "print(df.shape)\n",
    "print(df.info())"
   ]
  },
  {
   "cell_type": "markdown",
   "metadata": {},
   "source": [
    "### Data Overview\n",
    "We have missing data in the description column and also in the customer id column. We will need to investigate further the missing customers."
   ]
  },
  {
   "cell_type": "markdown",
   "metadata": {},
   "source": [
    "## Data Overview and Preprocessing\n",
    "- Cheking the overview data.\n",
    "- Checking the data for missing values, duplicates and outliers.\n",
    "- Check if data types are right.\n",
    "\n",
    "- df.shape\n",
    "- df.info()\n",
    "\n",
    "Investigate all columns."
   ]
  },
  {
   "cell_type": "markdown",
   "metadata": {},
   "source": [
    "### Describe all columns"
   ]
  },
  {
   "cell_type": "code",
   "execution_count": 4,
   "metadata": {},
   "outputs": [
    {
     "data": {
      "text/html": [
       "<div>\n",
       "<style scoped>\n",
       "    .dataframe tbody tr th:only-of-type {\n",
       "        vertical-align: middle;\n",
       "    }\n",
       "\n",
       "    .dataframe tbody tr th {\n",
       "        vertical-align: top;\n",
       "    }\n",
       "\n",
       "    .dataframe thead th {\n",
       "        text-align: right;\n",
       "    }\n",
       "</style>\n",
       "<table border=\"1\" class=\"dataframe\">\n",
       "  <thead>\n",
       "    <tr style=\"text-align: right;\">\n",
       "      <th></th>\n",
       "      <th>invoiceno</th>\n",
       "      <th>stockcode</th>\n",
       "      <th>description</th>\n",
       "      <th>quantity</th>\n",
       "      <th>invoicedate</th>\n",
       "      <th>unitprice</th>\n",
       "      <th>customerid</th>\n",
       "    </tr>\n",
       "  </thead>\n",
       "  <tbody>\n",
       "    <tr>\n",
       "      <th>count</th>\n",
       "      <td>541909</td>\n",
       "      <td>541909</td>\n",
       "      <td>540455</td>\n",
       "      <td>541909.000000</td>\n",
       "      <td>541909</td>\n",
       "      <td>541909.000000</td>\n",
       "      <td>406829.000000</td>\n",
       "    </tr>\n",
       "    <tr>\n",
       "      <th>unique</th>\n",
       "      <td>25900</td>\n",
       "      <td>4070</td>\n",
       "      <td>4223</td>\n",
       "      <td>NaN</td>\n",
       "      <td>23260</td>\n",
       "      <td>NaN</td>\n",
       "      <td>NaN</td>\n",
       "    </tr>\n",
       "    <tr>\n",
       "      <th>top</th>\n",
       "      <td>573585</td>\n",
       "      <td>85123A</td>\n",
       "      <td>WHITE HANGING HEART T-LIGHT HOLDER</td>\n",
       "      <td>NaN</td>\n",
       "      <td>10/29/2019 14:41</td>\n",
       "      <td>NaN</td>\n",
       "      <td>NaN</td>\n",
       "    </tr>\n",
       "    <tr>\n",
       "      <th>freq</th>\n",
       "      <td>1114</td>\n",
       "      <td>2313</td>\n",
       "      <td>2369</td>\n",
       "      <td>NaN</td>\n",
       "      <td>1114</td>\n",
       "      <td>NaN</td>\n",
       "      <td>NaN</td>\n",
       "    </tr>\n",
       "    <tr>\n",
       "      <th>mean</th>\n",
       "      <td>NaN</td>\n",
       "      <td>NaN</td>\n",
       "      <td>NaN</td>\n",
       "      <td>9.552250</td>\n",
       "      <td>NaN</td>\n",
       "      <td>4.611114</td>\n",
       "      <td>15287.690570</td>\n",
       "    </tr>\n",
       "    <tr>\n",
       "      <th>std</th>\n",
       "      <td>NaN</td>\n",
       "      <td>NaN</td>\n",
       "      <td>NaN</td>\n",
       "      <td>218.081158</td>\n",
       "      <td>NaN</td>\n",
       "      <td>96.759853</td>\n",
       "      <td>1713.600303</td>\n",
       "    </tr>\n",
       "    <tr>\n",
       "      <th>min</th>\n",
       "      <td>NaN</td>\n",
       "      <td>NaN</td>\n",
       "      <td>NaN</td>\n",
       "      <td>-80995.000000</td>\n",
       "      <td>NaN</td>\n",
       "      <td>-11062.060000</td>\n",
       "      <td>12346.000000</td>\n",
       "    </tr>\n",
       "    <tr>\n",
       "      <th>25%</th>\n",
       "      <td>NaN</td>\n",
       "      <td>NaN</td>\n",
       "      <td>NaN</td>\n",
       "      <td>1.000000</td>\n",
       "      <td>NaN</td>\n",
       "      <td>1.250000</td>\n",
       "      <td>13953.000000</td>\n",
       "    </tr>\n",
       "    <tr>\n",
       "      <th>50%</th>\n",
       "      <td>NaN</td>\n",
       "      <td>NaN</td>\n",
       "      <td>NaN</td>\n",
       "      <td>3.000000</td>\n",
       "      <td>NaN</td>\n",
       "      <td>2.080000</td>\n",
       "      <td>15152.000000</td>\n",
       "    </tr>\n",
       "    <tr>\n",
       "      <th>75%</th>\n",
       "      <td>NaN</td>\n",
       "      <td>NaN</td>\n",
       "      <td>NaN</td>\n",
       "      <td>10.000000</td>\n",
       "      <td>NaN</td>\n",
       "      <td>4.130000</td>\n",
       "      <td>16791.000000</td>\n",
       "    </tr>\n",
       "    <tr>\n",
       "      <th>max</th>\n",
       "      <td>NaN</td>\n",
       "      <td>NaN</td>\n",
       "      <td>NaN</td>\n",
       "      <td>80995.000000</td>\n",
       "      <td>NaN</td>\n",
       "      <td>38970.000000</td>\n",
       "      <td>18287.000000</td>\n",
       "    </tr>\n",
       "  </tbody>\n",
       "</table>\n",
       "</div>"
      ],
      "text/plain": [
       "       invoiceno stockcode                         description       quantity  \\\n",
       "count     541909    541909                              540455  541909.000000   \n",
       "unique     25900      4070                                4223            NaN   \n",
       "top       573585    85123A  WHITE HANGING HEART T-LIGHT HOLDER            NaN   \n",
       "freq        1114      2313                                2369            NaN   \n",
       "mean         NaN       NaN                                 NaN       9.552250   \n",
       "std          NaN       NaN                                 NaN     218.081158   \n",
       "min          NaN       NaN                                 NaN  -80995.000000   \n",
       "25%          NaN       NaN                                 NaN       1.000000   \n",
       "50%          NaN       NaN                                 NaN       3.000000   \n",
       "75%          NaN       NaN                                 NaN      10.000000   \n",
       "max          NaN       NaN                                 NaN   80995.000000   \n",
       "\n",
       "             invoicedate      unitprice     customerid  \n",
       "count             541909  541909.000000  406829.000000  \n",
       "unique             23260            NaN            NaN  \n",
       "top     10/29/2019 14:41            NaN            NaN  \n",
       "freq                1114            NaN            NaN  \n",
       "mean                 NaN       4.611114   15287.690570  \n",
       "std                  NaN      96.759853    1713.600303  \n",
       "min                  NaN  -11062.060000   12346.000000  \n",
       "25%                  NaN       1.250000   13953.000000  \n",
       "50%                  NaN       2.080000   15152.000000  \n",
       "75%                  NaN       4.130000   16791.000000  \n",
       "max                  NaN   38970.000000   18287.000000  "
      ]
     },
     "execution_count": 4,
     "metadata": {},
     "output_type": "execute_result"
    }
   ],
   "source": [
    "df.describe(include='all')"
   ]
  },
  {
   "cell_type": "markdown",
   "metadata": {},
   "source": [
    "### Format all date columns"
   ]
  },
  {
   "cell_type": "code",
   "execution_count": 5,
   "metadata": {},
   "outputs": [],
   "source": [
    "# There was a problem with the data, see row 312087. Some have the month first and others have the day first.\n",
    "try: \n",
    "    df['invoicedate']=pd.to_datetime(df['invoicedate'],format='%d/%m/%Y %H:%M',errors='raise')\n",
    "except:\n",
    "    df['invoicedate']=pd.to_datetime(df['invoicedate'],format='%m/%d/%Y %H:%M',errors='raise')"
   ]
  },
  {
   "cell_type": "markdown",
   "metadata": {},
   "source": [
    "### Check Duplicate entries"
   ]
  },
  {
   "cell_type": "code",
   "execution_count": 6,
   "metadata": {},
   "outputs": [
    {
     "data": {
      "text/plain": [
       "5268"
      ]
     },
     "execution_count": 6,
     "metadata": {},
     "output_type": "execute_result"
    }
   ],
   "source": [
    "df.duplicated().sum()"
   ]
  },
  {
   "cell_type": "code",
   "execution_count": 7,
   "metadata": {},
   "outputs": [
    {
     "data": {
      "text/plain": [
       "customerid  invoiceno\n",
       "12359.0     571034       3\n",
       "12370.0     538826       1\n",
       "12391.0     577228       7\n",
       "12431.0     539419       1\n",
       "12471.0     538174       1\n",
       "                        ..\n",
       "18283.0     560025       2\n",
       "            573093       2\n",
       "            575668       3\n",
       "            578262       5\n",
       "            579673       2\n",
       "Name: invoicedate, Length: 1903, dtype: int64"
      ]
     },
     "execution_count": 7,
     "metadata": {},
     "output_type": "execute_result"
    }
   ],
   "source": [
    "df[df.duplicated(keep='first')].sort_values(by='customerid').groupby(['customerid','invoiceno'])['invoicedate'].count()"
   ]
  },
  {
   "cell_type": "code",
   "execution_count": 8,
   "metadata": {},
   "outputs": [],
   "source": [
    "df.drop_duplicates(inplace=True)"
   ]
  },
  {
   "cell_type": "markdown",
   "metadata": {},
   "source": [
    "### Missing Values\n",
    "\n",
    "The missing values as we observe below are in customer id and description. The description column is less than 1 percent of the data, so we can drop these values. But, the customer id needs be to checked first. \n",
    "\n",
    "It looks like a large bumber of the customer id that are missing have negative unit prices, this suggests that they could be refunds. Therefore, we won't need to keep these in because we're only interested in sales that have happended on the website and we will then make an analysis of the top sellers and eventually decide which the most popular items are."
   ]
  },
  {
   "cell_type": "code",
   "execution_count": 9,
   "metadata": {},
   "outputs": [
    {
     "data": {
      "text/html": [
       "<style  type=\"text/css\" >\n",
       "</style><table id=\"T_e0abe_\" ><thead>    <tr>        <th class=\"blank level0\" ></th>        <th class=\"col_heading level0 col0\" >missing</th>        <th class=\"col_heading level0 col1\" >total</th>        <th class=\"col_heading level0 col2\" >percent</th>    </tr></thead><tbody>\n",
       "                <tr>\n",
       "                        <th id=\"T_e0abe_level0_row0\" class=\"row_heading level0 row0\" >customerid</th>\n",
       "                        <td id=\"T_e0abe_row0_col0\" class=\"data row0 col0\" >135,037</td>\n",
       "                        <td id=\"T_e0abe_row0_col1\" class=\"data row0 col1\" >536,641</td>\n",
       "                        <td id=\"T_e0abe_row0_col2\" class=\"data row0 col2\" >25.16%</td>\n",
       "            </tr>\n",
       "            <tr>\n",
       "                        <th id=\"T_e0abe_level0_row1\" class=\"row_heading level0 row1\" >description</th>\n",
       "                        <td id=\"T_e0abe_row1_col0\" class=\"data row1 col0\" >1,454</td>\n",
       "                        <td id=\"T_e0abe_row1_col1\" class=\"data row1 col1\" >536,641</td>\n",
       "                        <td id=\"T_e0abe_row1_col2\" class=\"data row1 col2\" >0.27%</td>\n",
       "            </tr>\n",
       "            <tr>\n",
       "                        <th id=\"T_e0abe_level0_row2\" class=\"row_heading level0 row2\" >invoiceno</th>\n",
       "                        <td id=\"T_e0abe_row2_col0\" class=\"data row2 col0\" >0</td>\n",
       "                        <td id=\"T_e0abe_row2_col1\" class=\"data row2 col1\" >536,641</td>\n",
       "                        <td id=\"T_e0abe_row2_col2\" class=\"data row2 col2\" >0.00%</td>\n",
       "            </tr>\n",
       "            <tr>\n",
       "                        <th id=\"T_e0abe_level0_row3\" class=\"row_heading level0 row3\" >stockcode</th>\n",
       "                        <td id=\"T_e0abe_row3_col0\" class=\"data row3 col0\" >0</td>\n",
       "                        <td id=\"T_e0abe_row3_col1\" class=\"data row3 col1\" >536,641</td>\n",
       "                        <td id=\"T_e0abe_row3_col2\" class=\"data row3 col2\" >0.00%</td>\n",
       "            </tr>\n",
       "            <tr>\n",
       "                        <th id=\"T_e0abe_level0_row4\" class=\"row_heading level0 row4\" >quantity</th>\n",
       "                        <td id=\"T_e0abe_row4_col0\" class=\"data row4 col0\" >0</td>\n",
       "                        <td id=\"T_e0abe_row4_col1\" class=\"data row4 col1\" >536,641</td>\n",
       "                        <td id=\"T_e0abe_row4_col2\" class=\"data row4 col2\" >0.00%</td>\n",
       "            </tr>\n",
       "            <tr>\n",
       "                        <th id=\"T_e0abe_level0_row5\" class=\"row_heading level0 row5\" >invoicedate</th>\n",
       "                        <td id=\"T_e0abe_row5_col0\" class=\"data row5 col0\" >0</td>\n",
       "                        <td id=\"T_e0abe_row5_col1\" class=\"data row5 col1\" >536,641</td>\n",
       "                        <td id=\"T_e0abe_row5_col2\" class=\"data row5 col2\" >0.00%</td>\n",
       "            </tr>\n",
       "            <tr>\n",
       "                        <th id=\"T_e0abe_level0_row6\" class=\"row_heading level0 row6\" >unitprice</th>\n",
       "                        <td id=\"T_e0abe_row6_col0\" class=\"data row6 col0\" >0</td>\n",
       "                        <td id=\"T_e0abe_row6_col1\" class=\"data row6 col1\" >536,641</td>\n",
       "                        <td id=\"T_e0abe_row6_col2\" class=\"data row6 col2\" >0.00%</td>\n",
       "            </tr>\n",
       "    </tbody></table>"
      ],
      "text/plain": [
       "<pandas.io.formats.style.Styler at 0x7f3f245ae700>"
      ]
     },
     "execution_count": 9,
     "metadata": {},
     "output_type": "execute_result"
    }
   ],
   "source": [
    "df.stb.missing(style=True)"
   ]
  },
  {
   "cell_type": "markdown",
   "metadata": {},
   "source": [
    "### Investigate missing in all columns"
   ]
  },
  {
   "cell_type": "code",
   "execution_count": 10,
   "metadata": {},
   "outputs": [
    {
     "name": "stdout",
     "output_type": "stream",
     "text": [
      "=======================================================\n",
      "description ==> Missing Values : 1454, dtypes : object\n",
      "=======================================================\n",
      "customerid ==> Missing Values : 135037, dtypes : float64\n"
     ]
    }
   ],
   "source": [
    "for column in df.columns:\n",
    "    if df[column].isna().sum()!=0:\n",
    "        print(\"=======================================================\")\n",
    "        print(f\"{column} ==> Missing Values : {df[column].isnull().sum()}, dtypes : {df[column].dtypes}\")"
   ]
  },
  {
   "cell_type": "code",
   "execution_count": 11,
   "metadata": {
    "scrolled": true
   },
   "outputs": [
    {
     "name": "stdout",
     "output_type": "stream",
     "text": [
      "401604\n",
      "4372\n",
      "536641\n",
      "25900\n"
     ]
    }
   ],
   "source": [
    "print(df['customerid'].count())\n",
    "print(df['customerid'].nunique())\n",
    "print(df['invoiceno'].count())\n",
    "print(df['invoiceno'].nunique())"
   ]
  },
  {
   "cell_type": "markdown",
   "metadata": {},
   "source": [
    "After investigation we have 4372 actual customers in our database after a unique count and there were 25900 unique orders from these customers."
   ]
  },
  {
   "cell_type": "code",
   "execution_count": 12,
   "metadata": {},
   "outputs": [],
   "source": [
    "missing_punters=df[df['customerid'].isna()]"
   ]
  },
  {
   "cell_type": "code",
   "execution_count": 13,
   "metadata": {},
   "outputs": [
    {
     "data": {
      "text/plain": [
       "DOTCOM POSTAGE                        693\n",
       "JUMBO BAG RED RETROSPOT               497\n",
       "JUMBO STORAGE BAG SUKI                414\n",
       "JUMBO SHOPPER VINTAGE RED PAISLEY     388\n",
       "JUMBO BAG WOODLAND ANIMALS            372\n",
       "                                     ... \n",
       "DIAMANTE BOW BROOCH BLACK COLOUR        1\n",
       "wet boxes                               1\n",
       "TURQUOISE HEART OF GLASS BRACELET       1\n",
       "damages/display                         1\n",
       "WATERING CAN SINGLE HOOK PISTACHIO      1\n",
       "Name: description, Length: 3554, dtype: int64"
      ]
     },
     "execution_count": 13,
     "metadata": {},
     "output_type": "execute_result"
    }
   ],
   "source": [
    "df[df['customerid'].isna()]['description'].value_counts()"
   ]
  },
  {
   "cell_type": "code",
   "execution_count": 14,
   "metadata": {},
   "outputs": [],
   "source": [
    "df['customerid']=df['customerid'].fillna(np.nan)\n",
    "df['customerid']=df['customerid'].astype('O')"
   ]
  },
  {
   "cell_type": "markdown",
   "metadata": {},
   "source": [
    "So, for our research it appears that customerid won't make an impact so we don't need to drop any of the thosing missing values and our missing description can be restored. I wanted to see simply a count of the products when there is a missing customer id, it does appear that they are actual orders. However, I can also see postage, damaged goods and various others. Next I am going to check the invoice number to see if it can shed any light on why the customer id is missing, possibly they are credit notes or errors."
   ]
  },
  {
   "cell_type": "markdown",
   "metadata": {},
   "source": [
    "### Investigate Invoice, Unit Price and Quantity"
   ]
  },
  {
   "cell_type": "code",
   "execution_count": 15,
   "metadata": {},
   "outputs": [
    {
     "data": {
      "text/html": [
       "<div>\n",
       "<style scoped>\n",
       "    .dataframe tbody tr th:only-of-type {\n",
       "        vertical-align: middle;\n",
       "    }\n",
       "\n",
       "    .dataframe tbody tr th {\n",
       "        vertical-align: top;\n",
       "    }\n",
       "\n",
       "    .dataframe thead th {\n",
       "        text-align: right;\n",
       "    }\n",
       "</style>\n",
       "<table border=\"1\" class=\"dataframe\">\n",
       "  <thead>\n",
       "    <tr style=\"text-align: right;\">\n",
       "      <th></th>\n",
       "      <th>total stock ordered</th>\n",
       "      <th>products per invoice</th>\n",
       "      <th>total value of order</th>\n",
       "    </tr>\n",
       "  </thead>\n",
       "  <tbody>\n",
       "    <tr>\n",
       "      <th>count</th>\n",
       "      <td>25900.000000</td>\n",
       "      <td>25900.000000</td>\n",
       "      <td>25900.000000</td>\n",
       "    </tr>\n",
       "    <tr>\n",
       "      <th>mean</th>\n",
       "      <td>199.324402</td>\n",
       "      <td>20.447336</td>\n",
       "      <td>95.987374</td>\n",
       "    </tr>\n",
       "    <tr>\n",
       "      <th>std</th>\n",
       "      <td>1107.976358</td>\n",
       "      <td>42.499072</td>\n",
       "      <td>494.590834</td>\n",
       "    </tr>\n",
       "    <tr>\n",
       "      <th>min</th>\n",
       "      <td>-80995.000000</td>\n",
       "      <td>0.000000</td>\n",
       "      <td>-11062.060000</td>\n",
       "    </tr>\n",
       "    <tr>\n",
       "      <th>25%</th>\n",
       "      <td>6.000000</td>\n",
       "      <td>2.000000</td>\n",
       "      <td>7.392500</td>\n",
       "    </tr>\n",
       "    <tr>\n",
       "      <th>50%</th>\n",
       "      <td>100.000000</td>\n",
       "      <td>10.000000</td>\n",
       "      <td>31.100000</td>\n",
       "    </tr>\n",
       "    <tr>\n",
       "      <th>75%</th>\n",
       "      <td>240.000000</td>\n",
       "      <td>23.000000</td>\n",
       "      <td>75.082500</td>\n",
       "    </tr>\n",
       "    <tr>\n",
       "      <th>max</th>\n",
       "      <td>80995.000000</td>\n",
       "      <td>1108.000000</td>\n",
       "      <td>38970.000000</td>\n",
       "    </tr>\n",
       "  </tbody>\n",
       "</table>\n",
       "</div>"
      ],
      "text/plain": [
       "       total stock ordered  products per invoice  total value of order\n",
       "count         25900.000000          25900.000000          25900.000000\n",
       "mean            199.324402             20.447336             95.987374\n",
       "std            1107.976358             42.499072            494.590834\n",
       "min          -80995.000000              0.000000         -11062.060000\n",
       "25%               6.000000              2.000000              7.392500\n",
       "50%             100.000000             10.000000             31.100000\n",
       "75%             240.000000             23.000000             75.082500\n",
       "max           80995.000000           1108.000000          38970.000000"
      ]
     },
     "execution_count": 15,
     "metadata": {},
     "output_type": "execute_result"
    }
   ],
   "source": [
    "products_per_order=df.groupby('invoiceno').agg({'quantity':'sum',\n",
    "                                                'description':'nunique',\n",
    "                                                'unitprice':'sum'\n",
    "                                               }).reset_index().rename(columns={'description':'products per invoice',\n",
    "                                                                                'quantity':'total stock ordered',\n",
    "                                                                               'unitprice':'total value of order'})\n",
    "products_per_order.describe()"
   ]
  },
  {
   "cell_type": "code",
   "execution_count": 16,
   "metadata": {},
   "outputs": [
    {
     "data": {
      "text/plain": [
       "count    536641.000000\n",
       "mean          9.620029\n",
       "std         219.130156\n",
       "min      -80995.000000\n",
       "25%           1.000000\n",
       "50%           3.000000\n",
       "75%          10.000000\n",
       "max       80995.000000\n",
       "Name: quantity, dtype: float64"
      ]
     },
     "execution_count": 16,
     "metadata": {},
     "output_type": "execute_result"
    }
   ],
   "source": [
    "df['quantity'].describe()"
   ]
  },
  {
   "cell_type": "code",
   "execution_count": 17,
   "metadata": {},
   "outputs": [
    {
     "data": {
      "image/png": "[encoded data removed]",
      "text/plain": [
       "<Figure size 432x288 with 1 Axes>"
      ]
     },
     "metadata": {},
     "output_type": "display_data"
    }
   ],
   "source": [
    "df.quantity.plot(kind='box',title='Check Order Quantity')\n",
    "plt.show()"
   ]
  },
  {
   "cell_type": "code",
   "execution_count": 18,
   "metadata": {},
   "outputs": [
    {
     "data": {
      "image/png": "[encoded data removed]",
      "text/plain": [
       "<Figure size 432x288 with 1 Axes>"
      ]
     },
     "metadata": {},
     "output_type": "display_data"
    }
   ],
   "source": [
    "bulk_orders=df[df['quantity']>100]\n",
    "bulk_orders['unitprice'].plot(kind='hist',bins=100, title='Check bulk order prices')\n",
    "plt.show()"
   ]
  },
  {
   "cell_type": "code",
   "execution_count": 19,
   "metadata": {},
   "outputs": [
    {
     "data": {
      "text/plain": [
       "[nan,\n",
       " '?',\n",
       " 'check',\n",
       " 'damages',\n",
       " 'faulty',\n",
       " 'Dotcom sales',\n",
       " 'reverse 21/5/10 adjustment',\n",
       " 'mouldy, thrown away.',\n",
       " 'counted',\n",
       " 'Given away',\n",
       " 'Dotcom',\n",
       " 'label mix up',\n",
       " 'samples/damages',\n",
       " 'thrown away',\n",
       " 'incorrectly made-thrown away.',\n",
       " 'showroom',\n",
       " 'MIA',\n",
       " 'Dotcom set',\n",
       " 'wrongly sold as sets',\n",
       " 'Amazon sold sets',\n",
       " 'dotcom sold sets',\n",
       " 'wrongly sold sets',\n",
       " '? sold as sets?',\n",
       " '?sold as sets?',\n",
       " 'Thrown away.',\n",
       " 'damages/display',\n",
       " 'damaged stock',\n",
       " 'broken',\n",
       " 'throw away',\n",
       " 'wrong barcode (22467)',\n",
       " 'wrong barcode',\n",
       " 'barcode problem',\n",
       " '?lost',\n",
       " \"thrown away-can't sell.\",\n",
       " \"thrown away-can't sell\",\n",
       " 'damages?',\n",
       " 're dotcom quick fix.',\n",
       " \"Dotcom sold in 6's\",\n",
       " 'sold in set?',\n",
       " 'cracked',\n",
       " 'sold as 22467',\n",
       " 'Damaged',\n",
       " 'mystery! Only ever imported 1800',\n",
       " 'MERCHANT CHANDLER CREDIT ERROR, STO',\n",
       " 'POSSIBLE DAMAGES OR LOST?',\n",
       " 'damaged',\n",
       " 'DAMAGED',\n",
       " 'Display',\n",
       " 'Missing',\n",
       " 'wrong code?',\n",
       " 'wrong code',\n",
       " 'adjust',\n",
       " 'crushed',\n",
       " 'damages/showroom etc',\n",
       " 'samples',\n",
       " 'damages/credits from ASOS.',\n",
       " 'Not rcvd in 10/11/2010 delivery',\n",
       " 'Thrown away-rusty',\n",
       " 'sold as set/6 by dotcom',\n",
       " 'wet/rusty',\n",
       " 'damages/dotcom?',\n",
       " 'smashed',\n",
       " 'reverse previous adjustment',\n",
       " 'incorrectly credited C550456 see 47',\n",
       " 'wet damaged',\n",
       " 'Water damaged',\n",
       " 'missing',\n",
       " 'sold as set on dotcom',\n",
       " 'sold as set on dotcom and amazon',\n",
       " 'water damage',\n",
       " 'sold as set by dotcom',\n",
       " 'Printing smudges/thrown away',\n",
       " 'printing smudges/thrown away',\n",
       " 'found some more on shelf',\n",
       " 'Show Samples',\n",
       " 'mix up with c',\n",
       " 'mouldy, unsaleable.',\n",
       " 'wrongly marked. 23343 in box',\n",
       " 'stock creditted wrongly',\n",
       " 'ebay',\n",
       " 'incorrectly put back into stock',\n",
       " 'Damages/samples',\n",
       " 'Sold as 1 on dotcom',\n",
       " 'taig adjust no stock',\n",
       " 'code mix up? 84930',\n",
       " '?display?',\n",
       " 'sold as 1',\n",
       " '?missing',\n",
       " 'crushed ctn',\n",
       " 'Crushed',\n",
       " 'temp adjustment',\n",
       " '??',\n",
       " 'test',\n",
       " 'OOPS ! adjustment',\n",
       " 'Dagamed',\n",
       " 'historic computer difference?....se',\n",
       " 'Incorrect stock entry.',\n",
       " 'incorrect stock entry.',\n",
       " 'wrongly coded-23343',\n",
       " 'stock check',\n",
       " 'crushed boxes',\n",
       " 'WET/MOULDY',\n",
       " \"can't find\",\n",
       " 'mouldy',\n",
       " 'Wet pallet-thrown away',\n",
       " 'adjustment',\n",
       " '20713 wrongly marked',\n",
       " 're-adjustment',\n",
       " 'Breakages',\n",
       " '20713',\n",
       " 'wrongly coded 20713',\n",
       " 'Damages',\n",
       " 'CHECK',\n",
       " 'Unsaleable, destroyed.',\n",
       " 'dotcom sales',\n",
       " 'damages wax',\n",
       " 'water damaged',\n",
       " 'Wrongly mrked had 85123a in box',\n",
       " 'wrongly marked carton 22804',\n",
       " 'missing?',\n",
       " 'wet rusty',\n",
       " '???lost',\n",
       " 'sold with wrong barcode',\n",
       " 'rusty thrown away',\n",
       " 'rusty throw away',\n",
       " 'dotcom',\n",
       " '?? missing',\n",
       " 'wet pallet',\n",
       " '????missing',\n",
       " '???missing',\n",
       " 'lost in space',\n",
       " 'wet?',\n",
       " 'lost??',\n",
       " '???',\n",
       " 'wet',\n",
       " 'wet boxes',\n",
       " '????damages????',\n",
       " 'mixed up',\n",
       " 'lost']"
      ]
     },
     "execution_count": 19,
     "metadata": {},
     "output_type": "execute_result"
    }
   ],
   "source": [
    "returns=df[df['quantity']<0]\n",
    "error_description = returns[~returns['invoiceno'].str.contains('C5')]['description'].unique().tolist()\n",
    "error_description"
   ]
  },
  {
   "cell_type": "markdown",
   "metadata": {},
   "source": [
    "After an investigation of the invoice number, we can see that there are on everage 199 items (in quantity) and about 20.44 unique products (description) by invoice. On top of that the average order value is 95 USD and the majority of our orders are under 75 USD as well as the quantity rarely being over 240 and thew number of actual products (description) is usually no more than 23. Possibly, we can add unit price categories to our data frame in order to categories products into groups based on their values.\n",
    "\n",
    "When we look at the quantity column, we have a high amount of negative values and constitute to returns, damages or errors. Therefore, so that we can focus on our sales revenue, we wil remove the quantity values that are below 0 in our database. After that we will categorise the order quantity column to split up invoices and categorise those with over 10 in quantity as bulk orders.\n"
   ]
  },
  {
   "cell_type": "markdown",
   "metadata": {},
   "source": [
    "### Investigate Stock Code"
   ]
  },
  {
   "cell_type": "code",
   "execution_count": 20,
   "metadata": {},
   "outputs": [
    {
     "data": {
      "text/plain": [
       "count     536641\n",
       "unique      4070\n",
       "top       85123A\n",
       "freq        2301\n",
       "Name: stockcode, dtype: object"
      ]
     },
     "execution_count": 20,
     "metadata": {},
     "output_type": "execute_result"
    }
   ],
   "source": [
    "df['stockcode'].describe()"
   ]
  },
  {
   "cell_type": "markdown",
   "metadata": {},
   "source": [
    "The \"stockcode\" column contains identifiers for products. In the dataset, there are 536,641 entries. Among these, there are 4,070 unique stock codes, indicating different products. The most frequent stock code is \"85123A,\" occurring 2,301 times, suggesting it's a commonly occurring product."
   ]
  },
  {
   "cell_type": "code",
   "execution_count": 21,
   "metadata": {},
   "outputs": [
    {
     "data": {
      "text/html": [
       "<div>\n",
       "<style scoped>\n",
       "    .dataframe tbody tr th:only-of-type {\n",
       "        vertical-align: middle;\n",
       "    }\n",
       "\n",
       "    .dataframe tbody tr th {\n",
       "        vertical-align: top;\n",
       "    }\n",
       "\n",
       "    .dataframe thead th {\n",
       "        text-align: right;\n",
       "    }\n",
       "</style>\n",
       "<table border=\"1\" class=\"dataframe\">\n",
       "  <thead>\n",
       "    <tr style=\"text-align: right;\">\n",
       "      <th></th>\n",
       "      <th>description</th>\n",
       "      <th>quantity</th>\n",
       "      <th>customerid</th>\n",
       "    </tr>\n",
       "    <tr>\n",
       "      <th>stockcode</th>\n",
       "      <th></th>\n",
       "      <th></th>\n",
       "      <th></th>\n",
       "    </tr>\n",
       "  </thead>\n",
       "  <tbody>\n",
       "    <tr>\n",
       "      <th>85123A</th>\n",
       "      <td>4</td>\n",
       "      <td>38811</td>\n",
       "      <td>858</td>\n",
       "    </tr>\n",
       "  </tbody>\n",
       "</table>\n",
       "</div>"
      ],
      "text/plain": [
       "           description  quantity  customerid\n",
       "stockcode                                   \n",
       "85123A               4     38811         858"
      ]
     },
     "execution_count": 21,
     "metadata": {},
     "output_type": "execute_result"
    }
   ],
   "source": [
    "df[df['stockcode']=='85123A'].groupby('stockcode').agg({'description':'nunique',\n",
    "                                                        'quantity':'sum',\n",
    "                                                        'customerid':'nunique'})"
   ]
  },
  {
   "cell_type": "markdown",
   "metadata": {},
   "source": [
    "Our most frequant product ordered were T-Light Holders by the brand \"Hanging Heart\". There are 4 different products, 38,811 in quantity ordered and 858 unique customers."
   ]
  },
  {
   "cell_type": "code",
   "execution_count": 22,
   "metadata": {},
   "outputs": [
    {
     "data": {
      "text/html": [
       "<div>\n",
       "<style scoped>\n",
       "    .dataframe tbody tr th:only-of-type {\n",
       "        vertical-align: middle;\n",
       "    }\n",
       "\n",
       "    .dataframe tbody tr th {\n",
       "        vertical-align: top;\n",
       "    }\n",
       "\n",
       "    .dataframe thead th {\n",
       "        text-align: right;\n",
       "    }\n",
       "</style>\n",
       "<table border=\"1\" class=\"dataframe\">\n",
       "  <thead>\n",
       "    <tr style=\"text-align: right;\">\n",
       "      <th></th>\n",
       "      <th>stockcode</th>\n",
       "      <th>description</th>\n",
       "      <th>quantity</th>\n",
       "      <th>unitprice</th>\n",
       "      <th>customerid</th>\n",
       "    </tr>\n",
       "  </thead>\n",
       "  <tbody>\n",
       "    <tr>\n",
       "      <th>4037</th>\n",
       "      <td>AMAZONFEE</td>\n",
       "      <td>1</td>\n",
       "      <td>-30</td>\n",
       "      <td>249042.680</td>\n",
       "      <td>0</td>\n",
       "    </tr>\n",
       "    <tr>\n",
       "      <th>4060</th>\n",
       "      <td>M</td>\n",
       "      <td>1</td>\n",
       "      <td>2924</td>\n",
       "      <td>214440.910</td>\n",
       "      <td>276</td>\n",
       "    </tr>\n",
       "    <tr>\n",
       "      <th>4059</th>\n",
       "      <td>DOT</td>\n",
       "      <td>1</td>\n",
       "      <td>1707</td>\n",
       "      <td>206252.060</td>\n",
       "      <td>1</td>\n",
       "    </tr>\n",
       "    <tr>\n",
       "      <th>4062</th>\n",
       "      <td>POST</td>\n",
       "      <td>1</td>\n",
       "      <td>6353</td>\n",
       "      <td>46388.470</td>\n",
       "      <td>379</td>\n",
       "    </tr>\n",
       "    <tr>\n",
       "      <th>1348</th>\n",
       "      <td>22423</td>\n",
       "      <td>3</td>\n",
       "      <td>12954</td>\n",
       "      <td>30222.160</td>\n",
       "      <td>887</td>\n",
       "    </tr>\n",
       "    <tr>\n",
       "      <th>2733</th>\n",
       "      <td>47566</td>\n",
       "      <td>1</td>\n",
       "      <td>18010</td>\n",
       "      <td>9945.270</td>\n",
       "      <td>708</td>\n",
       "    </tr>\n",
       "    <tr>\n",
       "      <th>1631</th>\n",
       "      <td>22720</td>\n",
       "      <td>1</td>\n",
       "      <td>7279</td>\n",
       "      <td>8479.080</td>\n",
       "      <td>640</td>\n",
       "    </tr>\n",
       "    <tr>\n",
       "      <th>4041</th>\n",
       "      <td>CRUK</td>\n",
       "      <td>1</td>\n",
       "      <td>-16</td>\n",
       "      <td>7933.430</td>\n",
       "      <td>1</td>\n",
       "    </tr>\n",
       "    <tr>\n",
       "      <th>3496</th>\n",
       "      <td>85066</td>\n",
       "      <td>1</td>\n",
       "      <td>1743</td>\n",
       "      <td>7799.860</td>\n",
       "      <td>291</td>\n",
       "    </tr>\n",
       "    <tr>\n",
       "      <th>4039</th>\n",
       "      <td>BANK CHARGES</td>\n",
       "      <td>1</td>\n",
       "      <td>-13</td>\n",
       "      <td>7505.641</td>\n",
       "      <td>10</td>\n",
       "    </tr>\n",
       "  </tbody>\n",
       "</table>\n",
       "</div>"
      ],
      "text/plain": [
       "         stockcode  description  quantity   unitprice  customerid\n",
       "4037     AMAZONFEE            1       -30  249042.680           0\n",
       "4060             M            1      2924  214440.910         276\n",
       "4059           DOT            1      1707  206252.060           1\n",
       "4062          POST            1      6353   46388.470         379\n",
       "1348         22423            3     12954   30222.160         887\n",
       "2733         47566            1     18010    9945.270         708\n",
       "1631         22720            1      7279    8479.080         640\n",
       "4041          CRUK            1       -16    7933.430           1\n",
       "3496         85066            1      1743    7799.860         291\n",
       "4039  BANK CHARGES            1       -13    7505.641          10"
      ]
     },
     "execution_count": 22,
     "metadata": {},
     "output_type": "execute_result"
    }
   ],
   "source": [
    "df.groupby('stockcode').agg({'description':'nunique',\n",
    "                             'quantity':'sum',\n",
    "                             'unitprice':'sum',\n",
    "                             'customerid':'nunique'}).reset_index().sort_values(by='unitprice',ascending=False).head(10)"
   ]
  },
  {
   "cell_type": "markdown",
   "metadata": {},
   "source": [
    "As we can see there are stockcode's callsed POST, AMAZONFEE, M, CRUK and DOT, these are not exactly products and may harm our analysis of the product. ! will now view a sample of each one, to try understanding more. It appears, that M is a manual invoice entry, so it can remain in the database, Amazon Fee is a cost to the company and not a product and CRUK appears to be commissions paid to Cancer Research UK and DOT and POST are shipping costs. Therefore, we will remove the amazon fee, shipping costs and CRUK commissions from our database."
   ]
  },
  {
   "cell_type": "code",
   "execution_count": 23,
   "metadata": {
    "scrolled": true
   },
   "outputs": [
    {
     "data": {
      "text/html": [
       "<div>\n",
       "<style scoped>\n",
       "    .dataframe tbody tr th:only-of-type {\n",
       "        vertical-align: middle;\n",
       "    }\n",
       "\n",
       "    .dataframe tbody tr th {\n",
       "        vertical-align: top;\n",
       "    }\n",
       "\n",
       "    .dataframe thead th {\n",
       "        text-align: right;\n",
       "    }\n",
       "</style>\n",
       "<table border=\"1\" class=\"dataframe\">\n",
       "  <thead>\n",
       "    <tr style=\"text-align: right;\">\n",
       "      <th></th>\n",
       "      <th>invoiceno</th>\n",
       "      <th>stockcode</th>\n",
       "      <th>description</th>\n",
       "      <th>quantity</th>\n",
       "      <th>invoicedate</th>\n",
       "      <th>unitprice</th>\n",
       "      <th>customerid</th>\n",
       "    </tr>\n",
       "  </thead>\n",
       "  <tbody>\n",
       "    <tr>\n",
       "      <th>2239</th>\n",
       "      <td>536569</td>\n",
       "      <td>M</td>\n",
       "      <td>Manual</td>\n",
       "      <td>1</td>\n",
       "      <td>2018-11-29 15:35:00</td>\n",
       "      <td>1.25</td>\n",
       "      <td>16274.0</td>\n",
       "    </tr>\n",
       "    <tr>\n",
       "      <th>2250</th>\n",
       "      <td>536569</td>\n",
       "      <td>M</td>\n",
       "      <td>Manual</td>\n",
       "      <td>1</td>\n",
       "      <td>2018-11-29 15:35:00</td>\n",
       "      <td>18.95</td>\n",
       "      <td>16274.0</td>\n",
       "    </tr>\n",
       "    <tr>\n",
       "      <th>5684</th>\n",
       "      <td>536865</td>\n",
       "      <td>M</td>\n",
       "      <td>Manual</td>\n",
       "      <td>1</td>\n",
       "      <td>2018-12-01 11:28:00</td>\n",
       "      <td>2.55</td>\n",
       "      <td>NaN</td>\n",
       "    </tr>\n",
       "    <tr>\n",
       "      <th>6798</th>\n",
       "      <td>536981</td>\n",
       "      <td>M</td>\n",
       "      <td>Manual</td>\n",
       "      <td>2</td>\n",
       "      <td>2018-12-01 14:26:00</td>\n",
       "      <td>0.85</td>\n",
       "      <td>14723.0</td>\n",
       "    </tr>\n",
       "    <tr>\n",
       "      <th>7976</th>\n",
       "      <td>537077</td>\n",
       "      <td>M</td>\n",
       "      <td>Manual</td>\n",
       "      <td>12</td>\n",
       "      <td>2018-12-03 11:59:00</td>\n",
       "      <td>0.42</td>\n",
       "      <td>17062.0</td>\n",
       "    </tr>\n",
       "  </tbody>\n",
       "</table>\n",
       "</div>"
      ],
      "text/plain": [
       "     invoiceno stockcode description  quantity         invoicedate  unitprice  \\\n",
       "2239    536569         M      Manual         1 2018-11-29 15:35:00       1.25   \n",
       "2250    536569         M      Manual         1 2018-11-29 15:35:00      18.95   \n",
       "5684    536865         M      Manual         1 2018-12-01 11:28:00       2.55   \n",
       "6798    536981         M      Manual         2 2018-12-01 14:26:00       0.85   \n",
       "7976    537077         M      Manual        12 2018-12-03 11:59:00       0.42   \n",
       "\n",
       "     customerid  \n",
       "2239    16274.0  \n",
       "2250    16274.0  \n",
       "5684        NaN  \n",
       "6798    14723.0  \n",
       "7976    17062.0  "
      ]
     },
     "execution_count": 23,
     "metadata": {},
     "output_type": "execute_result"
    }
   ],
   "source": [
    "df[df['stockcode']=='M'].head()"
   ]
  },
  {
   "cell_type": "code",
   "execution_count": 24,
   "metadata": {},
   "outputs": [
    {
     "data": {
      "text/html": [
       "<div>\n",
       "<style scoped>\n",
       "    .dataframe tbody tr th:only-of-type {\n",
       "        vertical-align: middle;\n",
       "    }\n",
       "\n",
       "    .dataframe tbody tr th {\n",
       "        vertical-align: top;\n",
       "    }\n",
       "\n",
       "    .dataframe thead th {\n",
       "        text-align: right;\n",
       "    }\n",
       "</style>\n",
       "<table border=\"1\" class=\"dataframe\">\n",
       "  <thead>\n",
       "    <tr style=\"text-align: right;\">\n",
       "      <th></th>\n",
       "      <th>invoiceno</th>\n",
       "      <th>stockcode</th>\n",
       "      <th>description</th>\n",
       "      <th>quantity</th>\n",
       "      <th>invoicedate</th>\n",
       "      <th>unitprice</th>\n",
       "      <th>customerid</th>\n",
       "    </tr>\n",
       "  </thead>\n",
       "  <tbody>\n",
       "    <tr>\n",
       "      <th>14514</th>\n",
       "      <td>C537600</td>\n",
       "      <td>AMAZONFEE</td>\n",
       "      <td>AMAZON FEE</td>\n",
       "      <td>-1</td>\n",
       "      <td>2018-12-05 12:41:00</td>\n",
       "      <td>1.00</td>\n",
       "      <td>NaN</td>\n",
       "    </tr>\n",
       "    <tr>\n",
       "      <th>15016</th>\n",
       "      <td>C537630</td>\n",
       "      <td>AMAZONFEE</td>\n",
       "      <td>AMAZON FEE</td>\n",
       "      <td>-1</td>\n",
       "      <td>2018-12-05 15:04:00</td>\n",
       "      <td>13541.33</td>\n",
       "      <td>NaN</td>\n",
       "    </tr>\n",
       "    <tr>\n",
       "      <th>15017</th>\n",
       "      <td>537632</td>\n",
       "      <td>AMAZONFEE</td>\n",
       "      <td>AMAZON FEE</td>\n",
       "      <td>1</td>\n",
       "      <td>2018-12-05 15:08:00</td>\n",
       "      <td>13541.33</td>\n",
       "      <td>NaN</td>\n",
       "    </tr>\n",
       "    <tr>\n",
       "      <th>16232</th>\n",
       "      <td>C537644</td>\n",
       "      <td>AMAZONFEE</td>\n",
       "      <td>AMAZON FEE</td>\n",
       "      <td>-1</td>\n",
       "      <td>2018-12-05 15:34:00</td>\n",
       "      <td>13474.79</td>\n",
       "      <td>NaN</td>\n",
       "    </tr>\n",
       "    <tr>\n",
       "      <th>16313</th>\n",
       "      <td>C537647</td>\n",
       "      <td>AMAZONFEE</td>\n",
       "      <td>AMAZON FEE</td>\n",
       "      <td>-1</td>\n",
       "      <td>2018-12-05 15:41:00</td>\n",
       "      <td>5519.25</td>\n",
       "      <td>NaN</td>\n",
       "    </tr>\n",
       "  </tbody>\n",
       "</table>\n",
       "</div>"
      ],
      "text/plain": [
       "      invoiceno  stockcode description  quantity         invoicedate  \\\n",
       "14514   C537600  AMAZONFEE  AMAZON FEE        -1 2018-12-05 12:41:00   \n",
       "15016   C537630  AMAZONFEE  AMAZON FEE        -1 2018-12-05 15:04:00   \n",
       "15017    537632  AMAZONFEE  AMAZON FEE         1 2018-12-05 15:08:00   \n",
       "16232   C537644  AMAZONFEE  AMAZON FEE        -1 2018-12-05 15:34:00   \n",
       "16313   C537647  AMAZONFEE  AMAZON FEE        -1 2018-12-05 15:41:00   \n",
       "\n",
       "       unitprice customerid  \n",
       "14514       1.00        NaN  \n",
       "15016   13541.33        NaN  \n",
       "15017   13541.33        NaN  \n",
       "16232   13474.79        NaN  \n",
       "16313    5519.25        NaN  "
      ]
     },
     "execution_count": 24,
     "metadata": {},
     "output_type": "execute_result"
    }
   ],
   "source": [
    "df[df['stockcode']=='AMAZONFEE'].head()"
   ]
  },
  {
   "cell_type": "code",
   "execution_count": 25,
   "metadata": {},
   "outputs": [
    {
     "data": {
      "text/html": [
       "<div>\n",
       "<style scoped>\n",
       "    .dataframe tbody tr th:only-of-type {\n",
       "        vertical-align: middle;\n",
       "    }\n",
       "\n",
       "    .dataframe tbody tr th {\n",
       "        vertical-align: top;\n",
       "    }\n",
       "\n",
       "    .dataframe thead th {\n",
       "        text-align: right;\n",
       "    }\n",
       "</style>\n",
       "<table border=\"1\" class=\"dataframe\">\n",
       "  <thead>\n",
       "    <tr style=\"text-align: right;\">\n",
       "      <th></th>\n",
       "      <th>invoiceno</th>\n",
       "      <th>stockcode</th>\n",
       "      <th>description</th>\n",
       "      <th>quantity</th>\n",
       "      <th>invoicedate</th>\n",
       "      <th>unitprice</th>\n",
       "      <th>customerid</th>\n",
       "    </tr>\n",
       "  </thead>\n",
       "  <tbody>\n",
       "    <tr>\n",
       "      <th>1814</th>\n",
       "      <td>536544</td>\n",
       "      <td>DOT</td>\n",
       "      <td>DOTCOM POSTAGE</td>\n",
       "      <td>1</td>\n",
       "      <td>2018-11-29 14:32:00</td>\n",
       "      <td>569.77</td>\n",
       "      <td>NaN</td>\n",
       "    </tr>\n",
       "    <tr>\n",
       "      <th>3041</th>\n",
       "      <td>536592</td>\n",
       "      <td>DOT</td>\n",
       "      <td>DOTCOM POSTAGE</td>\n",
       "      <td>1</td>\n",
       "      <td>2018-11-29 17:06:00</td>\n",
       "      <td>607.49</td>\n",
       "      <td>NaN</td>\n",
       "    </tr>\n",
       "    <tr>\n",
       "      <th>5450</th>\n",
       "      <td>536862</td>\n",
       "      <td>DOT</td>\n",
       "      <td>DOTCOM POSTAGE</td>\n",
       "      <td>1</td>\n",
       "      <td>2018-12-01 11:13:00</td>\n",
       "      <td>254.43</td>\n",
       "      <td>NaN</td>\n",
       "    </tr>\n",
       "    <tr>\n",
       "      <th>5545</th>\n",
       "      <td>536864</td>\n",
       "      <td>DOT</td>\n",
       "      <td>DOTCOM POSTAGE</td>\n",
       "      <td>1</td>\n",
       "      <td>2018-12-01 11:27:00</td>\n",
       "      <td>121.06</td>\n",
       "      <td>NaN</td>\n",
       "    </tr>\n",
       "    <tr>\n",
       "      <th>5685</th>\n",
       "      <td>536865</td>\n",
       "      <td>DOT</td>\n",
       "      <td>DOTCOM POSTAGE</td>\n",
       "      <td>1</td>\n",
       "      <td>2018-12-01 11:28:00</td>\n",
       "      <td>498.47</td>\n",
       "      <td>NaN</td>\n",
       "    </tr>\n",
       "  </tbody>\n",
       "</table>\n",
       "</div>"
      ],
      "text/plain": [
       "     invoiceno stockcode     description  quantity         invoicedate  \\\n",
       "1814    536544       DOT  DOTCOM POSTAGE         1 2018-11-29 14:32:00   \n",
       "3041    536592       DOT  DOTCOM POSTAGE         1 2018-11-29 17:06:00   \n",
       "5450    536862       DOT  DOTCOM POSTAGE         1 2018-12-01 11:13:00   \n",
       "5545    536864       DOT  DOTCOM POSTAGE         1 2018-12-01 11:27:00   \n",
       "5685    536865       DOT  DOTCOM POSTAGE         1 2018-12-01 11:28:00   \n",
       "\n",
       "      unitprice customerid  \n",
       "1814     569.77        NaN  \n",
       "3041     607.49        NaN  \n",
       "5450     254.43        NaN  \n",
       "5545     121.06        NaN  \n",
       "5685     498.47        NaN  "
      ]
     },
     "execution_count": 25,
     "metadata": {},
     "output_type": "execute_result"
    }
   ],
   "source": [
    "df[df['stockcode']=='DOT'].head()"
   ]
  },
  {
   "cell_type": "code",
   "execution_count": 26,
   "metadata": {},
   "outputs": [
    {
     "data": {
      "text/html": [
       "<div>\n",
       "<style scoped>\n",
       "    .dataframe tbody tr th:only-of-type {\n",
       "        vertical-align: middle;\n",
       "    }\n",
       "\n",
       "    .dataframe tbody tr th {\n",
       "        vertical-align: top;\n",
       "    }\n",
       "\n",
       "    .dataframe thead th {\n",
       "        text-align: right;\n",
       "    }\n",
       "</style>\n",
       "<table border=\"1\" class=\"dataframe\">\n",
       "  <thead>\n",
       "    <tr style=\"text-align: right;\">\n",
       "      <th></th>\n",
       "      <th>invoiceno</th>\n",
       "      <th>stockcode</th>\n",
       "      <th>description</th>\n",
       "      <th>quantity</th>\n",
       "      <th>invoicedate</th>\n",
       "      <th>unitprice</th>\n",
       "      <th>customerid</th>\n",
       "    </tr>\n",
       "  </thead>\n",
       "  <tbody>\n",
       "    <tr>\n",
       "      <th>45</th>\n",
       "      <td>536370</td>\n",
       "      <td>POST</td>\n",
       "      <td>POSTAGE</td>\n",
       "      <td>3</td>\n",
       "      <td>2018-11-29 08:45:00</td>\n",
       "      <td>18.0</td>\n",
       "      <td>12583.0</td>\n",
       "    </tr>\n",
       "    <tr>\n",
       "      <th>386</th>\n",
       "      <td>536403</td>\n",
       "      <td>POST</td>\n",
       "      <td>POSTAGE</td>\n",
       "      <td>1</td>\n",
       "      <td>2018-11-29 11:27:00</td>\n",
       "      <td>15.0</td>\n",
       "      <td>12791.0</td>\n",
       "    </tr>\n",
       "    <tr>\n",
       "      <th>1123</th>\n",
       "      <td>536527</td>\n",
       "      <td>POST</td>\n",
       "      <td>POSTAGE</td>\n",
       "      <td>1</td>\n",
       "      <td>2018-11-29 13:04:00</td>\n",
       "      <td>18.0</td>\n",
       "      <td>12662.0</td>\n",
       "    </tr>\n",
       "    <tr>\n",
       "      <th>5073</th>\n",
       "      <td>536840</td>\n",
       "      <td>POST</td>\n",
       "      <td>POSTAGE</td>\n",
       "      <td>1</td>\n",
       "      <td>2018-11-30 18:27:00</td>\n",
       "      <td>18.0</td>\n",
       "      <td>12738.0</td>\n",
       "    </tr>\n",
       "    <tr>\n",
       "      <th>5258</th>\n",
       "      <td>536852</td>\n",
       "      <td>POST</td>\n",
       "      <td>POSTAGE</td>\n",
       "      <td>1</td>\n",
       "      <td>2018-12-01 09:51:00</td>\n",
       "      <td>18.0</td>\n",
       "      <td>12686.0</td>\n",
       "    </tr>\n",
       "  </tbody>\n",
       "</table>\n",
       "</div>"
      ],
      "text/plain": [
       "     invoiceno stockcode description  quantity         invoicedate  unitprice  \\\n",
       "45      536370      POST     POSTAGE         3 2018-11-29 08:45:00       18.0   \n",
       "386     536403      POST     POSTAGE         1 2018-11-29 11:27:00       15.0   \n",
       "1123    536527      POST     POSTAGE         1 2018-11-29 13:04:00       18.0   \n",
       "5073    536840      POST     POSTAGE         1 2018-11-30 18:27:00       18.0   \n",
       "5258    536852      POST     POSTAGE         1 2018-12-01 09:51:00       18.0   \n",
       "\n",
       "     customerid  \n",
       "45      12583.0  \n",
       "386     12791.0  \n",
       "1123    12662.0  \n",
       "5073    12738.0  \n",
       "5258    12686.0  "
      ]
     },
     "execution_count": 26,
     "metadata": {},
     "output_type": "execute_result"
    }
   ],
   "source": [
    "df[df['stockcode']=='POST'].head()"
   ]
  },
  {
   "cell_type": "code",
   "execution_count": 27,
   "metadata": {},
   "outputs": [
    {
     "data": {
      "text/html": [
       "<div>\n",
       "<style scoped>\n",
       "    .dataframe tbody tr th:only-of-type {\n",
       "        vertical-align: middle;\n",
       "    }\n",
       "\n",
       "    .dataframe tbody tr th {\n",
       "        vertical-align: top;\n",
       "    }\n",
       "\n",
       "    .dataframe thead th {\n",
       "        text-align: right;\n",
       "    }\n",
       "</style>\n",
       "<table border=\"1\" class=\"dataframe\">\n",
       "  <thead>\n",
       "    <tr style=\"text-align: right;\">\n",
       "      <th></th>\n",
       "      <th>invoiceno</th>\n",
       "      <th>stockcode</th>\n",
       "      <th>description</th>\n",
       "      <th>quantity</th>\n",
       "      <th>invoicedate</th>\n",
       "      <th>unitprice</th>\n",
       "      <th>customerid</th>\n",
       "    </tr>\n",
       "  </thead>\n",
       "  <tbody>\n",
       "    <tr>\n",
       "      <th>317508</th>\n",
       "      <td>C564763</td>\n",
       "      <td>CRUK</td>\n",
       "      <td>CRUK Commission</td>\n",
       "      <td>-1</td>\n",
       "      <td>2019-08-28 10:49:00</td>\n",
       "      <td>1.60</td>\n",
       "      <td>14096.0</td>\n",
       "    </tr>\n",
       "    <tr>\n",
       "      <th>324023</th>\n",
       "      <td>C565382</td>\n",
       "      <td>CRUK</td>\n",
       "      <td>CRUK Commission</td>\n",
       "      <td>-1</td>\n",
       "      <td>2019-08-31 15:45:00</td>\n",
       "      <td>13.01</td>\n",
       "      <td>14096.0</td>\n",
       "    </tr>\n",
       "    <tr>\n",
       "      <th>333779</th>\n",
       "      <td>C566216</td>\n",
       "      <td>CRUK</td>\n",
       "      <td>CRUK Commission</td>\n",
       "      <td>-1</td>\n",
       "      <td>2019-09-07 15:17:00</td>\n",
       "      <td>15.96</td>\n",
       "      <td>14096.0</td>\n",
       "    </tr>\n",
       "    <tr>\n",
       "      <th>338848</th>\n",
       "      <td>C566565</td>\n",
       "      <td>CRUK</td>\n",
       "      <td>CRUK Commission</td>\n",
       "      <td>-1</td>\n",
       "      <td>2019-09-11 12:32:00</td>\n",
       "      <td>52.24</td>\n",
       "      <td>14096.0</td>\n",
       "    </tr>\n",
       "    <tr>\n",
       "      <th>351003</th>\n",
       "      <td>C567655</td>\n",
       "      <td>CRUK</td>\n",
       "      <td>CRUK Commission</td>\n",
       "      <td>-1</td>\n",
       "      <td>2019-09-19 14:40:00</td>\n",
       "      <td>608.66</td>\n",
       "      <td>14096.0</td>\n",
       "    </tr>\n",
       "  </tbody>\n",
       "</table>\n",
       "</div>"
      ],
      "text/plain": [
       "       invoiceno stockcode      description  quantity         invoicedate  \\\n",
       "317508   C564763      CRUK  CRUK Commission        -1 2019-08-28 10:49:00   \n",
       "324023   C565382      CRUK  CRUK Commission        -1 2019-08-31 15:45:00   \n",
       "333779   C566216      CRUK  CRUK Commission        -1 2019-09-07 15:17:00   \n",
       "338848   C566565      CRUK  CRUK Commission        -1 2019-09-11 12:32:00   \n",
       "351003   C567655      CRUK  CRUK Commission        -1 2019-09-19 14:40:00   \n",
       "\n",
       "        unitprice customerid  \n",
       "317508       1.60    14096.0  \n",
       "324023      13.01    14096.0  \n",
       "333779      15.96    14096.0  \n",
       "338848      52.24    14096.0  \n",
       "351003     608.66    14096.0  "
      ]
     },
     "execution_count": 27,
     "metadata": {},
     "output_type": "execute_result"
    }
   ],
   "source": [
    "df[df['stockcode']=='CRUK'].head()"
   ]
  },
  {
   "cell_type": "markdown",
   "metadata": {},
   "source": [
    "### Investigate Invoice date"
   ]
  },
  {
   "cell_type": "code",
   "execution_count": 28,
   "metadata": {},
   "outputs": [
    {
     "data": {
      "text/plain": [
       "count                           536641\n",
       "mean     2019-07-02 08:57:06.087421696\n",
       "min                2018-11-29 08:26:00\n",
       "25%                2019-03-26 10:52:00\n",
       "50%                2019-07-17 14:04:00\n",
       "75%                2019-10-16 17:05:00\n",
       "max                2019-12-07 12:50:00\n",
       "Name: invoicedate, dtype: object"
      ]
     },
     "execution_count": 28,
     "metadata": {},
     "output_type": "execute_result"
    }
   ],
   "source": [
    "df['invoicedate'].describe(datetime_is_numeric=True)"
   ]
  },
  {
   "cell_type": "code",
   "execution_count": 29,
   "metadata": {},
   "outputs": [
    {
     "data": {
      "image/png": "[encoded data removed]",
      "text/plain": [
       "<Figure size 432x288 with 1 Axes>"
      ]
     },
     "metadata": {},
     "output_type": "display_data"
    }
   ],
   "source": [
    "plt.hist(df['invoicedate'],bins='auto')\n",
    "plt.title('Investigation of invoice date')\n",
    "plt.show()"
   ]
  },
  {
   "cell_type": "markdown",
   "metadata": {},
   "source": [
    "The highest frequancy of orders came during the end of 2019 and the beginning of 2019, with a lower frequancy through the rest of the year. Moreover, it appears that we have year-to-date (YTD) data starting from the end of Novermber 2018 and ending on December 7th 2019. There appears to be a gap in the distribution at the start of the period, which needs to be investigated. \n",
    "\n",
    "In this dataset, the range of invoicedates spans from November 29, 2018, to December 7, 2019. The median (50th percentile) invoicedate falls on July 17, 2019, indicating that half of the invoices were issued before this date and half after."
   ]
  },
  {
   "cell_type": "code",
   "execution_count": 30,
   "metadata": {},
   "outputs": [
    {
     "data": {
      "image/png": "[encoded data removed]",
      "text/plain": [
       "<Figure size 432x288 with 1 Axes>"
      ]
     },
     "metadata": {},
     "output_type": "display_data"
    }
   ],
   "source": [
    "first_orders=df[(df['invoicedate']<'2019-01-01')]\n",
    "plt.hist(first_orders['invoicedate'],bins='auto')\n",
    "plt.title('Investigation of invoice date')\n",
    "plt.show()"
   ]
  },
  {
   "cell_type": "code",
   "execution_count": 31,
   "metadata": {},
   "outputs": [
    {
     "data": {
      "image/png": "[encoded data removed]",
      "text/plain": [
       "<Figure size 432x288 with 1 Axes>"
      ]
     },
     "metadata": {},
     "output_type": "display_data"
    }
   ],
   "source": [
    "orders_2019=df[(df['invoicedate']>'2018-12-31')]\n",
    "plt.hist(orders_2019['invoicedate'],bins='auto')\n",
    "plt.title('Investigation of invoice date')\n",
    "plt.show()"
   ]
  },
  {
   "cell_type": "markdown",
   "metadata": {},
   "source": [
    "There are gapsin the data before 2018, I believe in order to make a more sufficient analysis it will be worthwhile to drop the values before 1st January 2019 and perform an analysis of 2019 orders only."
   ]
  },
  {
   "cell_type": "markdown",
   "metadata": {},
   "source": [
    "### Additional date columns \n",
    "Adding the name of the date, the month of the order and the year of the order for a time series analysis.\n",
    "We will also add a first order order date, which we will link to the dataframe once we have cleaned it after our initial investigation."
   ]
  },
  {
   "cell_type": "code",
   "execution_count": 32,
   "metadata": {},
   "outputs": [],
   "source": [
    "df['invoiceday'] = df['invoicedate'].dt.day_name()\n",
    "df['invoicemonth'] = df['invoicedate'].astype('datetime64[M]')\n",
    "df['invoiceyear'] = df['invoicedate'].dt.year\n",
    "df['invoicequarter'] = pd.PeriodIndex(df.invoicedate, freq='Q')\n",
    "df['daytime']=df['invoicedate'].dt.hour // 8\n",
    "\n",
    "first_customer_date=df.groupby('customerid')['invoicedate'].first().reset_index()\n",
    "first_customer_date.columns=['customerid','first_order_date']"
   ]
  },
  {
   "cell_type": "markdown",
   "metadata": {},
   "source": [
    "### Investigate missing descriptions\n",
    "We will make an attempt to use bfill in order to fill in the missing descriptions."
   ]
  },
  {
   "cell_type": "code",
   "execution_count": 33,
   "metadata": {},
   "outputs": [
    {
     "data": {
      "text/html": [
       "<div>\n",
       "<style scoped>\n",
       "    .dataframe tbody tr th:only-of-type {\n",
       "        vertical-align: middle;\n",
       "    }\n",
       "\n",
       "    .dataframe tbody tr th {\n",
       "        vertical-align: top;\n",
       "    }\n",
       "\n",
       "    .dataframe thead th {\n",
       "        text-align: right;\n",
       "    }\n",
       "</style>\n",
       "<table border=\"1\" class=\"dataframe\">\n",
       "  <thead>\n",
       "    <tr style=\"text-align: right;\">\n",
       "      <th></th>\n",
       "      <th>invoiceno</th>\n",
       "      <th>stockcode</th>\n",
       "      <th>description</th>\n",
       "      <th>quantity</th>\n",
       "      <th>invoicedate</th>\n",
       "      <th>unitprice</th>\n",
       "      <th>customerid</th>\n",
       "      <th>invoiceday</th>\n",
       "      <th>invoicemonth</th>\n",
       "      <th>invoiceyear</th>\n",
       "      <th>invoicequarter</th>\n",
       "      <th>daytime</th>\n",
       "    </tr>\n",
       "  </thead>\n",
       "  <tbody>\n",
       "    <tr>\n",
       "      <th>622</th>\n",
       "      <td>536414</td>\n",
       "      <td>22139</td>\n",
       "      <td>NaN</td>\n",
       "      <td>56</td>\n",
       "      <td>2018-11-29 11:52:00</td>\n",
       "      <td>0.0</td>\n",
       "      <td>NaN</td>\n",
       "      <td>Thursday</td>\n",
       "      <td>2018-11-01</td>\n",
       "      <td>2018</td>\n",
       "      <td>2018Q4</td>\n",
       "      <td>1</td>\n",
       "    </tr>\n",
       "    <tr>\n",
       "      <th>1970</th>\n",
       "      <td>536545</td>\n",
       "      <td>21134</td>\n",
       "      <td>NaN</td>\n",
       "      <td>1</td>\n",
       "      <td>2018-11-29 14:32:00</td>\n",
       "      <td>0.0</td>\n",
       "      <td>NaN</td>\n",
       "      <td>Thursday</td>\n",
       "      <td>2018-11-01</td>\n",
       "      <td>2018</td>\n",
       "      <td>2018Q4</td>\n",
       "      <td>1</td>\n",
       "    </tr>\n",
       "    <tr>\n",
       "      <th>1971</th>\n",
       "      <td>536546</td>\n",
       "      <td>22145</td>\n",
       "      <td>NaN</td>\n",
       "      <td>1</td>\n",
       "      <td>2018-11-29 14:33:00</td>\n",
       "      <td>0.0</td>\n",
       "      <td>NaN</td>\n",
       "      <td>Thursday</td>\n",
       "      <td>2018-11-01</td>\n",
       "      <td>2018</td>\n",
       "      <td>2018Q4</td>\n",
       "      <td>1</td>\n",
       "    </tr>\n",
       "    <tr>\n",
       "      <th>1972</th>\n",
       "      <td>536547</td>\n",
       "      <td>37509</td>\n",
       "      <td>NaN</td>\n",
       "      <td>1</td>\n",
       "      <td>2018-11-29 14:33:00</td>\n",
       "      <td>0.0</td>\n",
       "      <td>NaN</td>\n",
       "      <td>Thursday</td>\n",
       "      <td>2018-11-01</td>\n",
       "      <td>2018</td>\n",
       "      <td>2018Q4</td>\n",
       "      <td>1</td>\n",
       "    </tr>\n",
       "    <tr>\n",
       "      <th>1987</th>\n",
       "      <td>536549</td>\n",
       "      <td>85226A</td>\n",
       "      <td>NaN</td>\n",
       "      <td>1</td>\n",
       "      <td>2018-11-29 14:34:00</td>\n",
       "      <td>0.0</td>\n",
       "      <td>NaN</td>\n",
       "      <td>Thursday</td>\n",
       "      <td>2018-11-01</td>\n",
       "      <td>2018</td>\n",
       "      <td>2018Q4</td>\n",
       "      <td>1</td>\n",
       "    </tr>\n",
       "    <tr>\n",
       "      <th>...</th>\n",
       "      <td>...</td>\n",
       "      <td>...</td>\n",
       "      <td>...</td>\n",
       "      <td>...</td>\n",
       "      <td>...</td>\n",
       "      <td>...</td>\n",
       "      <td>...</td>\n",
       "      <td>...</td>\n",
       "      <td>...</td>\n",
       "      <td>...</td>\n",
       "      <td>...</td>\n",
       "      <td>...</td>\n",
       "    </tr>\n",
       "    <tr>\n",
       "      <th>535322</th>\n",
       "      <td>581199</td>\n",
       "      <td>84581</td>\n",
       "      <td>NaN</td>\n",
       "      <td>-2</td>\n",
       "      <td>2019-12-05 18:26:00</td>\n",
       "      <td>0.0</td>\n",
       "      <td>NaN</td>\n",
       "      <td>Thursday</td>\n",
       "      <td>2019-12-01</td>\n",
       "      <td>2019</td>\n",
       "      <td>2019Q4</td>\n",
       "      <td>2</td>\n",
       "    </tr>\n",
       "    <tr>\n",
       "      <th>535326</th>\n",
       "      <td>581203</td>\n",
       "      <td>23406</td>\n",
       "      <td>NaN</td>\n",
       "      <td>15</td>\n",
       "      <td>2019-12-05 18:31:00</td>\n",
       "      <td>0.0</td>\n",
       "      <td>NaN</td>\n",
       "      <td>Thursday</td>\n",
       "      <td>2019-12-01</td>\n",
       "      <td>2019</td>\n",
       "      <td>2019Q4</td>\n",
       "      <td>2</td>\n",
       "    </tr>\n",
       "    <tr>\n",
       "      <th>535332</th>\n",
       "      <td>581209</td>\n",
       "      <td>21620</td>\n",
       "      <td>NaN</td>\n",
       "      <td>6</td>\n",
       "      <td>2019-12-05 18:35:00</td>\n",
       "      <td>0.0</td>\n",
       "      <td>NaN</td>\n",
       "      <td>Thursday</td>\n",
       "      <td>2019-12-01</td>\n",
       "      <td>2019</td>\n",
       "      <td>2019Q4</td>\n",
       "      <td>2</td>\n",
       "    </tr>\n",
       "    <tr>\n",
       "      <th>536981</th>\n",
       "      <td>581234</td>\n",
       "      <td>72817</td>\n",
       "      <td>NaN</td>\n",
       "      <td>27</td>\n",
       "      <td>2019-12-06 10:33:00</td>\n",
       "      <td>0.0</td>\n",
       "      <td>NaN</td>\n",
       "      <td>Friday</td>\n",
       "      <td>2019-12-01</td>\n",
       "      <td>2019</td>\n",
       "      <td>2019Q4</td>\n",
       "      <td>1</td>\n",
       "    </tr>\n",
       "    <tr>\n",
       "      <th>538554</th>\n",
       "      <td>581408</td>\n",
       "      <td>85175</td>\n",
       "      <td>NaN</td>\n",
       "      <td>20</td>\n",
       "      <td>2019-12-06 14:06:00</td>\n",
       "      <td>0.0</td>\n",
       "      <td>NaN</td>\n",
       "      <td>Friday</td>\n",
       "      <td>2019-12-01</td>\n",
       "      <td>2019</td>\n",
       "      <td>2019Q4</td>\n",
       "      <td>1</td>\n",
       "    </tr>\n",
       "  </tbody>\n",
       "</table>\n",
       "<p>1454 rows × 12 columns</p>\n",
       "</div>"
      ],
      "text/plain": [
       "       invoiceno stockcode description  quantity         invoicedate  \\\n",
       "622       536414     22139         NaN        56 2018-11-29 11:52:00   \n",
       "1970      536545     21134         NaN         1 2018-11-29 14:32:00   \n",
       "1971      536546     22145         NaN         1 2018-11-29 14:33:00   \n",
       "1972      536547     37509         NaN         1 2018-11-29 14:33:00   \n",
       "1987      536549    85226A         NaN         1 2018-11-29 14:34:00   \n",
       "...          ...       ...         ...       ...                 ...   \n",
       "535322    581199     84581         NaN        -2 2019-12-05 18:26:00   \n",
       "535326    581203     23406         NaN        15 2019-12-05 18:31:00   \n",
       "535332    581209     21620         NaN         6 2019-12-05 18:35:00   \n",
       "536981    581234     72817         NaN        27 2019-12-06 10:33:00   \n",
       "538554    581408     85175         NaN        20 2019-12-06 14:06:00   \n",
       "\n",
       "        unitprice customerid invoiceday invoicemonth  invoiceyear  \\\n",
       "622           0.0        NaN   Thursday   2018-11-01         2018   \n",
       "1970          0.0        NaN   Thursday   2018-11-01         2018   \n",
       "1971          0.0        NaN   Thursday   2018-11-01         2018   \n",
       "1972          0.0        NaN   Thursday   2018-11-01         2018   \n",
       "1987          0.0        NaN   Thursday   2018-11-01         2018   \n",
       "...           ...        ...        ...          ...          ...   \n",
       "535322        0.0        NaN   Thursday   2019-12-01         2019   \n",
       "535326        0.0        NaN   Thursday   2019-12-01         2019   \n",
       "535332        0.0        NaN   Thursday   2019-12-01         2019   \n",
       "536981        0.0        NaN     Friday   2019-12-01         2019   \n",
       "538554        0.0        NaN     Friday   2019-12-01         2019   \n",
       "\n",
       "       invoicequarter  daytime  \n",
       "622            2018Q4        1  \n",
       "1970           2018Q4        1  \n",
       "1971           2018Q4        1  \n",
       "1972           2018Q4        1  \n",
       "1987           2018Q4        1  \n",
       "...               ...      ...  \n",
       "535322         2019Q4        2  \n",
       "535326         2019Q4        2  \n",
       "535332         2019Q4        2  \n",
       "536981         2019Q4        1  \n",
       "538554         2019Q4        1  \n",
       "\n",
       "[1454 rows x 12 columns]"
      ]
     },
     "execution_count": 33,
     "metadata": {},
     "output_type": "execute_result"
    }
   ],
   "source": [
    "df[df['description'].isna()]"
   ]
  },
  {
   "cell_type": "code",
   "execution_count": 34,
   "metadata": {},
   "outputs": [],
   "source": [
    "df.sort_values(by='stockcode',inplace=True)\n",
    "df.fillna(method='bfill',inplace=True)"
   ]
  },
  {
   "cell_type": "code",
   "execution_count": 35,
   "metadata": {},
   "outputs": [
    {
     "name": "stdout",
     "output_type": "stream",
     "text": [
      "=======================================================\n",
      "customerid ==> Missing Values : 97, dtypes : float64\n"
     ]
    }
   ],
   "source": [
    "for column in df.columns:\n",
    "    if df[column].isna().sum()!=0:\n",
    "        print(\"=======================================================\")\n",
    "        print(f\"{column} ==> Missing Values : {df[column].isnull().sum()}, dtypes : {df[column].dtypes}\")"
   ]
  },
  {
   "cell_type": "code",
   "execution_count": 36,
   "metadata": {},
   "outputs": [
    {
     "name": "stdout",
     "output_type": "stream",
     "text": [
      "<class 'pandas.core.frame.DataFrame'>\n",
      "Int64Index: 536641 entries, 17604 to 40383\n",
      "Data columns (total 12 columns):\n",
      " #   Column          Non-Null Count   Dtype         \n",
      "---  ------          --------------   -----         \n",
      " 0   invoiceno       536641 non-null  object        \n",
      " 1   stockcode       536641 non-null  object        \n",
      " 2   description     536641 non-null  object        \n",
      " 3   quantity        536641 non-null  int64         \n",
      " 4   invoicedate     536641 non-null  datetime64[ns]\n",
      " 5   unitprice       536641 non-null  float64       \n",
      " 6   customerid      536544 non-null  float64       \n",
      " 7   invoiceday      536641 non-null  object        \n",
      " 8   invoicemonth    536641 non-null  datetime64[ns]\n",
      " 9   invoiceyear     536641 non-null  int64         \n",
      " 10  invoicequarter  536641 non-null  period[Q-DEC] \n",
      " 11  daytime         536641 non-null  int64         \n",
      "dtypes: datetime64[ns](2), float64(2), int64(3), object(4), period[Q-DEC](1)\n",
      "memory usage: 53.2+ MB\n"
     ]
    }
   ],
   "source": [
    "df.info()"
   ]
  },
  {
   "cell_type": "markdown",
   "metadata": {},
   "source": [
    "### Enrich Data with Categorisation\n",
    "1) Add total value\n",
    "\n",
    "2) Add category for unit price - We will go up in 20s based on the above invoice.\n",
    "\n",
    "3) Add category for orders over 10 units"
   ]
  },
  {
   "cell_type": "code",
   "execution_count": 37,
   "metadata": {},
   "outputs": [],
   "source": [
    "# Add total revenue column\n",
    "df['total_value']=df['unitprice']*df['quantity']"
   ]
  },
  {
   "cell_type": "code",
   "execution_count": 38,
   "metadata": {},
   "outputs": [],
   "source": [
    "# add category for unit price - We will go up in 20s based on the above invoice.\n",
    "def price_ranges(unitprice):\n",
    "    if unitprice < 0:\n",
    "        return 'credit note/bills'\n",
    "    elif unitprice < 20:\n",
    "        return 'orders below 20'\n",
    "    elif unitprice < 40:\n",
    "        return 'orders 20 - 40'\n",
    "    elif unitprice < 60:\n",
    "        return 'orders 40 - 60'\n",
    "    elif unitprice < 80:\n",
    "        return 'orders 60 - 80'\n",
    "    elif unitprice < 100:\n",
    "        return 'orders 80 - 100'\n",
    "    else: return 'orders 100+'\n",
    "    \n",
    "df['price_range']=df['unitprice'].apply(price_ranges)"
   ]
  },
  {
   "cell_type": "code",
   "execution_count": 39,
   "metadata": {},
   "outputs": [],
   "source": [
    "def bulk_orders(quantity):\n",
    "    if quantity >= 10:\n",
    "        return 'bulk orders'\n",
    "    elif quantity == 0:\n",
    "        return 'no order'\n",
    "    elif quantity < 0:\n",
    "        return 'returns'\n",
    "    else: return 'small orders'\n",
    "\n",
    "df['order_type']=df['quantity'].apply(bulk_orders)"
   ]
  },
  {
   "cell_type": "code",
   "execution_count": 40,
   "metadata": {},
   "outputs": [
    {
     "data": {
      "text/html": [
       "<div>\n",
       "<style scoped>\n",
       "    .dataframe tbody tr th:only-of-type {\n",
       "        vertical-align: middle;\n",
       "    }\n",
       "\n",
       "    .dataframe tbody tr th {\n",
       "        vertical-align: top;\n",
       "    }\n",
       "\n",
       "    .dataframe thead th {\n",
       "        text-align: right;\n",
       "    }\n",
       "</style>\n",
       "<table border=\"1\" class=\"dataframe\">\n",
       "  <thead>\n",
       "    <tr style=\"text-align: right;\">\n",
       "      <th></th>\n",
       "      <th>price_range</th>\n",
       "      <th>count</th>\n",
       "      <th>percent</th>\n",
       "      <th>cumulative_count</th>\n",
       "      <th>cumulative_percent</th>\n",
       "    </tr>\n",
       "  </thead>\n",
       "  <tbody>\n",
       "    <tr>\n",
       "      <th>0</th>\n",
       "      <td>orders below 20</td>\n",
       "      <td>532464</td>\n",
       "      <td>99.221640</td>\n",
       "      <td>532464</td>\n",
       "      <td>99.221640</td>\n",
       "    </tr>\n",
       "    <tr>\n",
       "      <th>1</th>\n",
       "      <td>orders 20 - 40</td>\n",
       "      <td>2554</td>\n",
       "      <td>0.475923</td>\n",
       "      <td>535018</td>\n",
       "      <td>99.697563</td>\n",
       "    </tr>\n",
       "    <tr>\n",
       "      <th>2</th>\n",
       "      <td>orders 100+</td>\n",
       "      <td>1037</td>\n",
       "      <td>0.193239</td>\n",
       "      <td>536055</td>\n",
       "      <td>99.890802</td>\n",
       "    </tr>\n",
       "    <tr>\n",
       "      <th>3</th>\n",
       "      <td>orders 40 - 60</td>\n",
       "      <td>432</td>\n",
       "      <td>0.080501</td>\n",
       "      <td>536487</td>\n",
       "      <td>99.971303</td>\n",
       "    </tr>\n",
       "    <tr>\n",
       "      <th>4</th>\n",
       "      <td>orders 80 - 100</td>\n",
       "      <td>83</td>\n",
       "      <td>0.015467</td>\n",
       "      <td>536570</td>\n",
       "      <td>99.986770</td>\n",
       "    </tr>\n",
       "    <tr>\n",
       "      <th>5</th>\n",
       "      <td>orders 60 - 80</td>\n",
       "      <td>69</td>\n",
       "      <td>0.012858</td>\n",
       "      <td>536639</td>\n",
       "      <td>99.999627</td>\n",
       "    </tr>\n",
       "    <tr>\n",
       "      <th>6</th>\n",
       "      <td>credit note/bills</td>\n",
       "      <td>2</td>\n",
       "      <td>0.000373</td>\n",
       "      <td>536641</td>\n",
       "      <td>100.000000</td>\n",
       "    </tr>\n",
       "  </tbody>\n",
       "</table>\n",
       "</div>"
      ],
      "text/plain": [
       "         price_range   count    percent  cumulative_count  cumulative_percent\n",
       "0    orders below 20  532464  99.221640            532464           99.221640\n",
       "1     orders 20 - 40    2554   0.475923            535018           99.697563\n",
       "2        orders 100+    1037   0.193239            536055           99.890802\n",
       "3     orders 40 - 60     432   0.080501            536487           99.971303\n",
       "4    orders 80 - 100      83   0.015467            536570           99.986770\n",
       "5     orders 60 - 80      69   0.012858            536639           99.999627\n",
       "6  credit note/bills       2   0.000373            536641          100.000000"
      ]
     },
     "execution_count": 40,
     "metadata": {},
     "output_type": "execute_result"
    }
   ],
   "source": [
    "df.stb.freq(['price_range'])"
   ]
  },
  {
   "cell_type": "code",
   "execution_count": 41,
   "metadata": {},
   "outputs": [
    {
     "data": {
      "text/html": [
       "<div>\n",
       "<style scoped>\n",
       "    .dataframe tbody tr th:only-of-type {\n",
       "        vertical-align: middle;\n",
       "    }\n",
       "\n",
       "    .dataframe tbody tr th {\n",
       "        vertical-align: top;\n",
       "    }\n",
       "\n",
       "    .dataframe thead th {\n",
       "        text-align: right;\n",
       "    }\n",
       "</style>\n",
       "<table border=\"1\" class=\"dataframe\">\n",
       "  <thead>\n",
       "    <tr style=\"text-align: right;\">\n",
       "      <th></th>\n",
       "      <th>order_type</th>\n",
       "      <th>count</th>\n",
       "      <th>percent</th>\n",
       "      <th>cumulative_count</th>\n",
       "      <th>cumulative_percent</th>\n",
       "    </tr>\n",
       "  </thead>\n",
       "  <tbody>\n",
       "    <tr>\n",
       "      <th>0</th>\n",
       "      <td>small orders</td>\n",
       "      <td>371511</td>\n",
       "      <td>69.228963</td>\n",
       "      <td>371511</td>\n",
       "      <td>69.228963</td>\n",
       "    </tr>\n",
       "    <tr>\n",
       "      <th>1</th>\n",
       "      <td>bulk orders</td>\n",
       "      <td>154543</td>\n",
       "      <td>28.798210</td>\n",
       "      <td>526054</td>\n",
       "      <td>98.027173</td>\n",
       "    </tr>\n",
       "    <tr>\n",
       "      <th>2</th>\n",
       "      <td>returns</td>\n",
       "      <td>10587</td>\n",
       "      <td>1.972827</td>\n",
       "      <td>536641</td>\n",
       "      <td>100.000000</td>\n",
       "    </tr>\n",
       "  </tbody>\n",
       "</table>\n",
       "</div>"
      ],
      "text/plain": [
       "     order_type   count    percent  cumulative_count  cumulative_percent\n",
       "0  small orders  371511  69.228963            371511           69.228963\n",
       "1   bulk orders  154543  28.798210            526054           98.027173\n",
       "2       returns   10587   1.972827            536641          100.000000"
      ]
     },
     "execution_count": 41,
     "metadata": {},
     "output_type": "execute_result"
    }
   ],
   "source": [
    "df.stb.freq(['order_type'])"
   ]
  },
  {
   "cell_type": "markdown",
   "metadata": {},
   "source": [
    "The majority of our orders are below 20 dollars and the majority of our orders were smaller orders with less than 10 items. Moreover around 1.9% of the data has been classed as a return due to the quantity being negative."
   ]
  },
  {
   "cell_type": "markdown",
   "metadata": {},
   "source": [
    "To summarise the preparation efforts, we will now clean the datframe in order to perform the best possible exploratory and statisical analysis of our online gift shop."
   ]
  },
  {
   "cell_type": "markdown",
   "metadata": {},
   "source": [
    "### Final cleaning & Preprocessing summary\n",
    "\n",
    "Firstly, we discovered that the majority of missing values are in customerid and those that are missing won't impact our analysis. However, in the stockcode column we have names \"amazon fee\", shipping costs and manual entries, amazon fee and credit notes. We will remove the manual entries as it can be difficult to know what they are. In addition, we have gaps in our date column before January 2019, so we will focus our efforts on 2019 orders and drop orders from 2018.\n",
    "\n",
    "Morevoer, we will add our categories for later analysis and then merge the first customer date on our main dataframe."
   ]
  },
  {
   "cell_type": "code",
   "execution_count": 42,
   "metadata": {},
   "outputs": [],
   "source": [
    "# Make them all title case and clean\n",
    "df['description']=df['description'].str.title()\n",
    "df['description']=df['description'].str.strip()"
   ]
  },
  {
   "cell_type": "code",
   "execution_count": 43,
   "metadata": {},
   "outputs": [],
   "source": [
    "new_data=pd.merge(df, first_customer_date, left_on='customerid',right_on='customerid', how='left')\n",
    "new_data['first_order_month']=new_data['first_order_date'].astype('datetime64[M]')"
   ]
  },
  {
   "cell_type": "code",
   "execution_count": 44,
   "metadata": {},
   "outputs": [],
   "source": [
    "new_data['first_order_quarter']=pd.PeriodIndex(new_data.first_order_month, freq='Q')"
   ]
  },
  {
   "cell_type": "code",
   "execution_count": 45,
   "metadata": {
    "scrolled": true
   },
   "outputs": [
    {
     "data": {
      "text/html": [
       "<div>\n",
       "<style scoped>\n",
       "    .dataframe tbody tr th:only-of-type {\n",
       "        vertical-align: middle;\n",
       "    }\n",
       "\n",
       "    .dataframe tbody tr th {\n",
       "        vertical-align: top;\n",
       "    }\n",
       "\n",
       "    .dataframe thead th {\n",
       "        text-align: right;\n",
       "    }\n",
       "</style>\n",
       "<table border=\"1\" class=\"dataframe\">\n",
       "  <thead>\n",
       "    <tr style=\"text-align: right;\">\n",
       "      <th></th>\n",
       "      <th>invoiceno</th>\n",
       "      <th>stockcode</th>\n",
       "      <th>description</th>\n",
       "      <th>quantity</th>\n",
       "      <th>invoicedate</th>\n",
       "      <th>unitprice</th>\n",
       "      <th>customerid</th>\n",
       "      <th>invoiceday</th>\n",
       "      <th>invoicemonth</th>\n",
       "      <th>invoiceyear</th>\n",
       "      <th>invoicequarter</th>\n",
       "      <th>daytime</th>\n",
       "      <th>total_value</th>\n",
       "      <th>price_range</th>\n",
       "      <th>order_type</th>\n",
       "      <th>first_order_date</th>\n",
       "      <th>first_order_month</th>\n",
       "      <th>first_order_quarter</th>\n",
       "    </tr>\n",
       "  </thead>\n",
       "  <tbody>\n",
       "    <tr>\n",
       "      <th>0</th>\n",
       "      <td>537770</td>\n",
       "      <td>10002</td>\n",
       "      <td>Inflatable Political Globe</td>\n",
       "      <td>12</td>\n",
       "      <td>2018-12-06 12:24:00</td>\n",
       "      <td>0.85</td>\n",
       "      <td>15529.0</td>\n",
       "      <td>Thursday</td>\n",
       "      <td>2018-12-01</td>\n",
       "      <td>2018</td>\n",
       "      <td>2018Q4</td>\n",
       "      <td>1</td>\n",
       "      <td>10.20</td>\n",
       "      <td>orders below 20</td>\n",
       "      <td>bulk orders</td>\n",
       "      <td>2018-12-06 12:24:00</td>\n",
       "      <td>2018-12-01</td>\n",
       "      <td>2018Q4</td>\n",
       "    </tr>\n",
       "    <tr>\n",
       "      <th>1</th>\n",
       "      <td>538071</td>\n",
       "      <td>10002</td>\n",
       "      <td>Inflatable Political Globe</td>\n",
       "      <td>2</td>\n",
       "      <td>2018-12-07 14:09:00</td>\n",
       "      <td>1.66</td>\n",
       "      <td>14713.0</td>\n",
       "      <td>Friday</td>\n",
       "      <td>2018-12-01</td>\n",
       "      <td>2018</td>\n",
       "      <td>2018Q4</td>\n",
       "      <td>1</td>\n",
       "      <td>3.32</td>\n",
       "      <td>orders below 20</td>\n",
       "      <td>small orders</td>\n",
       "      <td>2018-12-07 18:58:00</td>\n",
       "      <td>2018-12-01</td>\n",
       "      <td>2018Q4</td>\n",
       "    </tr>\n",
       "    <tr>\n",
       "      <th>2</th>\n",
       "      <td>539322</td>\n",
       "      <td>10002</td>\n",
       "      <td>Inflatable Political Globe</td>\n",
       "      <td>5</td>\n",
       "      <td>2018-12-14 19:22:00</td>\n",
       "      <td>0.85</td>\n",
       "      <td>14713.0</td>\n",
       "      <td>Friday</td>\n",
       "      <td>2018-12-01</td>\n",
       "      <td>2018</td>\n",
       "      <td>2018Q4</td>\n",
       "      <td>2</td>\n",
       "      <td>4.25</td>\n",
       "      <td>orders below 20</td>\n",
       "      <td>small orders</td>\n",
       "      <td>2018-12-07 18:58:00</td>\n",
       "      <td>2018-12-01</td>\n",
       "      <td>2018Q4</td>\n",
       "    </tr>\n",
       "    <tr>\n",
       "      <th>3</th>\n",
       "      <td>537047</td>\n",
       "      <td>10002</td>\n",
       "      <td>Inflatable Political Globe</td>\n",
       "      <td>1</td>\n",
       "      <td>2018-12-03 11:02:00</td>\n",
       "      <td>0.85</td>\n",
       "      <td>13069.0</td>\n",
       "      <td>Monday</td>\n",
       "      <td>2018-12-01</td>\n",
       "      <td>2018</td>\n",
       "      <td>2018Q4</td>\n",
       "      <td>1</td>\n",
       "      <td>0.85</td>\n",
       "      <td>orders below 20</td>\n",
       "      <td>small orders</td>\n",
       "      <td>2018-12-03 11:02:00</td>\n",
       "      <td>2018-12-01</td>\n",
       "      <td>2018Q4</td>\n",
       "    </tr>\n",
       "    <tr>\n",
       "      <th>4</th>\n",
       "      <td>537638</td>\n",
       "      <td>10002</td>\n",
       "      <td>Inflatable Political Globe</td>\n",
       "      <td>5</td>\n",
       "      <td>2018-12-05 15:28:00</td>\n",
       "      <td>1.66</td>\n",
       "      <td>14258.0</td>\n",
       "      <td>Wednesday</td>\n",
       "      <td>2018-12-01</td>\n",
       "      <td>2018</td>\n",
       "      <td>2018Q4</td>\n",
       "      <td>1</td>\n",
       "      <td>8.30</td>\n",
       "      <td>orders below 20</td>\n",
       "      <td>small orders</td>\n",
       "      <td>2019-01-04 12:18:00</td>\n",
       "      <td>2019-01-01</td>\n",
       "      <td>2019Q1</td>\n",
       "    </tr>\n",
       "    <tr>\n",
       "      <th>...</th>\n",
       "      <td>...</td>\n",
       "      <td>...</td>\n",
       "      <td>...</td>\n",
       "      <td>...</td>\n",
       "      <td>...</td>\n",
       "      <td>...</td>\n",
       "      <td>...</td>\n",
       "      <td>...</td>\n",
       "      <td>...</td>\n",
       "      <td>...</td>\n",
       "      <td>...</td>\n",
       "      <td>...</td>\n",
       "      <td>...</td>\n",
       "      <td>...</td>\n",
       "      <td>...</td>\n",
       "      <td>...</td>\n",
       "      <td>...</td>\n",
       "      <td>...</td>\n",
       "    </tr>\n",
       "    <tr>\n",
       "      <th>536636</th>\n",
       "      <td>558614</td>\n",
       "      <td>gift_0001_50</td>\n",
       "      <td>Dotcomgiftshop Gift Voucher £50.00</td>\n",
       "      <td>1</td>\n",
       "      <td>2019-06-28 15:56:00</td>\n",
       "      <td>41.67</td>\n",
       "      <td>NaN</td>\n",
       "      <td>Friday</td>\n",
       "      <td>2019-06-01</td>\n",
       "      <td>2019</td>\n",
       "      <td>2019Q2</td>\n",
       "      <td>1</td>\n",
       "      <td>41.67</td>\n",
       "      <td>orders 40 - 60</td>\n",
       "      <td>small orders</td>\n",
       "      <td>NaT</td>\n",
       "      <td>NaT</td>\n",
       "      <td>NaT</td>\n",
       "    </tr>\n",
       "    <tr>\n",
       "      <th>536637</th>\n",
       "      <td>552232</td>\n",
       "      <td>gift_0001_50</td>\n",
       "      <td>Dotcomgiftshop Gift Voucher £50.00</td>\n",
       "      <td>1</td>\n",
       "      <td>2019-05-04 15:54:00</td>\n",
       "      <td>41.67</td>\n",
       "      <td>NaN</td>\n",
       "      <td>Saturday</td>\n",
       "      <td>2019-05-01</td>\n",
       "      <td>2019</td>\n",
       "      <td>2019Q2</td>\n",
       "      <td>1</td>\n",
       "      <td>41.67</td>\n",
       "      <td>orders 40 - 60</td>\n",
       "      <td>small orders</td>\n",
       "      <td>NaT</td>\n",
       "      <td>NaT</td>\n",
       "      <td>NaT</td>\n",
       "    </tr>\n",
       "    <tr>\n",
       "      <th>536638</th>\n",
       "      <td>539958</td>\n",
       "      <td>gift_0001_50</td>\n",
       "      <td>Dotcomgiftshop Gift Voucher £50.00</td>\n",
       "      <td>1</td>\n",
       "      <td>2018-12-21 13:26:00</td>\n",
       "      <td>42.55</td>\n",
       "      <td>NaN</td>\n",
       "      <td>Friday</td>\n",
       "      <td>2018-12-01</td>\n",
       "      <td>2018</td>\n",
       "      <td>2018Q4</td>\n",
       "      <td>1</td>\n",
       "      <td>42.55</td>\n",
       "      <td>orders 40 - 60</td>\n",
       "      <td>small orders</td>\n",
       "      <td>NaT</td>\n",
       "      <td>NaT</td>\n",
       "      <td>NaT</td>\n",
       "    </tr>\n",
       "    <tr>\n",
       "      <th>536639</th>\n",
       "      <td>558066</td>\n",
       "      <td>gift_0001_50</td>\n",
       "      <td>Dotcomgiftshop Gift Voucher £50.00</td>\n",
       "      <td>1</td>\n",
       "      <td>2019-06-22 15:45:00</td>\n",
       "      <td>41.67</td>\n",
       "      <td>NaN</td>\n",
       "      <td>Saturday</td>\n",
       "      <td>2019-06-01</td>\n",
       "      <td>2019</td>\n",
       "      <td>2019Q2</td>\n",
       "      <td>1</td>\n",
       "      <td>41.67</td>\n",
       "      <td>orders 40 - 60</td>\n",
       "      <td>small orders</td>\n",
       "      <td>NaT</td>\n",
       "      <td>NaT</td>\n",
       "      <td>NaT</td>\n",
       "    </tr>\n",
       "    <tr>\n",
       "      <th>536640</th>\n",
       "      <td>539736</td>\n",
       "      <td>m</td>\n",
       "      <td>Manual</td>\n",
       "      <td>1</td>\n",
       "      <td>2018-12-19 15:18:00</td>\n",
       "      <td>2.55</td>\n",
       "      <td>NaN</td>\n",
       "      <td>Wednesday</td>\n",
       "      <td>2018-12-01</td>\n",
       "      <td>2018</td>\n",
       "      <td>2018Q4</td>\n",
       "      <td>1</td>\n",
       "      <td>2.55</td>\n",
       "      <td>orders below 20</td>\n",
       "      <td>small orders</td>\n",
       "      <td>NaT</td>\n",
       "      <td>NaT</td>\n",
       "      <td>NaT</td>\n",
       "    </tr>\n",
       "  </tbody>\n",
       "</table>\n",
       "<p>536641 rows × 18 columns</p>\n",
       "</div>"
      ],
      "text/plain": [
       "       invoiceno     stockcode                         description  quantity  \\\n",
       "0         537770         10002          Inflatable Political Globe        12   \n",
       "1         538071         10002          Inflatable Political Globe         2   \n",
       "2         539322         10002          Inflatable Political Globe         5   \n",
       "3         537047         10002          Inflatable Political Globe         1   \n",
       "4         537638         10002          Inflatable Political Globe         5   \n",
       "...          ...           ...                                 ...       ...   \n",
       "536636    558614  gift_0001_50  Dotcomgiftshop Gift Voucher £50.00         1   \n",
       "536637    552232  gift_0001_50  Dotcomgiftshop Gift Voucher £50.00         1   \n",
       "536638    539958  gift_0001_50  Dotcomgiftshop Gift Voucher £50.00         1   \n",
       "536639    558066  gift_0001_50  Dotcomgiftshop Gift Voucher £50.00         1   \n",
       "536640    539736             m                              Manual         1   \n",
       "\n",
       "               invoicedate  unitprice  customerid invoiceday invoicemonth  \\\n",
       "0      2018-12-06 12:24:00       0.85     15529.0   Thursday   2018-12-01   \n",
       "1      2018-12-07 14:09:00       1.66     14713.0     Friday   2018-12-01   \n",
       "2      2018-12-14 19:22:00       0.85     14713.0     Friday   2018-12-01   \n",
       "3      2018-12-03 11:02:00       0.85     13069.0     Monday   2018-12-01   \n",
       "4      2018-12-05 15:28:00       1.66     14258.0  Wednesday   2018-12-01   \n",
       "...                    ...        ...         ...        ...          ...   \n",
       "536636 2019-06-28 15:56:00      41.67         NaN     Friday   2019-06-01   \n",
       "536637 2019-05-04 15:54:00      41.67         NaN   Saturday   2019-05-01   \n",
       "536638 2018-12-21 13:26:00      42.55         NaN     Friday   2018-12-01   \n",
       "536639 2019-06-22 15:45:00      41.67         NaN   Saturday   2019-06-01   \n",
       "536640 2018-12-19 15:18:00       2.55         NaN  Wednesday   2018-12-01   \n",
       "\n",
       "        invoiceyear invoicequarter  daytime  total_value      price_range  \\\n",
       "0              2018         2018Q4        1        10.20  orders below 20   \n",
       "1              2018         2018Q4        1         3.32  orders below 20   \n",
       "2              2018         2018Q4        2         4.25  orders below 20   \n",
       "3              2018         2018Q4        1         0.85  orders below 20   \n",
       "4              2018         2018Q4        1         8.30  orders below 20   \n",
       "...             ...            ...      ...          ...              ...   \n",
       "536636         2019         2019Q2        1        41.67   orders 40 - 60   \n",
       "536637         2019         2019Q2        1        41.67   orders 40 - 60   \n",
       "536638         2018         2018Q4        1        42.55   orders 40 - 60   \n",
       "536639         2019         2019Q2        1        41.67   orders 40 - 60   \n",
       "536640         2018         2018Q4        1         2.55  orders below 20   \n",
       "\n",
       "          order_type    first_order_date first_order_month first_order_quarter  \n",
       "0        bulk orders 2018-12-06 12:24:00        2018-12-01              2018Q4  \n",
       "1       small orders 2018-12-07 18:58:00        2018-12-01              2018Q4  \n",
       "2       small orders 2018-12-07 18:58:00        2018-12-01              2018Q4  \n",
       "3       small orders 2018-12-03 11:02:00        2018-12-01              2018Q4  \n",
       "4       small orders 2019-01-04 12:18:00        2019-01-01              2019Q1  \n",
       "...              ...                 ...               ...                 ...  \n",
       "536636  small orders                 NaT               NaT                 NaT  \n",
       "536637  small orders                 NaT               NaT                 NaT  \n",
       "536638  small orders                 NaT               NaT                 NaT  \n",
       "536639  small orders                 NaT               NaT                 NaT  \n",
       "536640  small orders                 NaT               NaT                 NaT  \n",
       "\n",
       "[536641 rows x 18 columns]"
      ]
     },
     "execution_count": 45,
     "metadata": {},
     "output_type": "execute_result"
    }
   ],
   "source": [
    "new_data"
   ]
  },
  {
   "cell_type": "code",
   "execution_count": 46,
   "metadata": {},
   "outputs": [],
   "source": [
    "new_data=new_data[(new_data['invoicedate']>'2018-12-31')\n",
    "                   & (new_data['first_order_date']>'2018-12-31')&\n",
    "                   (~new_data['stockcode'].isin(['BANK CHARGES','DOT','POST','POSTAGE','AMAZONFEE','M','CRUK','B','D'])) &\n",
    "                   (new_data['price_range']!='credit note/bills') \n",
    "                   & (new_data['quantity']>0)].copy()"
   ]
  },
  {
   "cell_type": "code",
   "execution_count": 47,
   "metadata": {},
   "outputs": [
    {
     "name": "stdout",
     "output_type": "stream",
     "text": [
      "<class 'pandas.core.frame.DataFrame'>\n",
      "Int64Index: 286601 entries, 5 to 535287\n",
      "Data columns (total 18 columns):\n",
      " #   Column               Non-Null Count   Dtype         \n",
      "---  ------               --------------   -----         \n",
      " 0   invoiceno            286601 non-null  object        \n",
      " 1   stockcode            286601 non-null  object        \n",
      " 2   description          286601 non-null  object        \n",
      " 3   quantity             286601 non-null  int64         \n",
      " 4   invoicedate          286601 non-null  datetime64[ns]\n",
      " 5   unitprice            286601 non-null  float64       \n",
      " 6   customerid           286601 non-null  float64       \n",
      " 7   invoiceday           286601 non-null  object        \n",
      " 8   invoicemonth         286601 non-null  datetime64[ns]\n",
      " 9   invoiceyear          286601 non-null  int64         \n",
      " 10  invoicequarter       286601 non-null  period[Q-DEC] \n",
      " 11  daytime              286601 non-null  int64         \n",
      " 12  total_value          286601 non-null  float64       \n",
      " 13  price_range          286601 non-null  object        \n",
      " 14  order_type           286601 non-null  object        \n",
      " 15  first_order_date     286601 non-null  datetime64[ns]\n",
      " 16  first_order_month    286601 non-null  datetime64[ns]\n",
      " 17  first_order_quarter  286601 non-null  period[Q-DEC] \n",
      "dtypes: datetime64[ns](4), float64(3), int64(3), object(6), period[Q-DEC](2)\n",
      "memory usage: 41.5+ MB\n"
     ]
    }
   ],
   "source": [
    "new_data.info()"
   ]
  },
  {
   "cell_type": "markdown",
   "metadata": {},
   "source": [
    "## Create Product Categories\n",
    "Before we begin our exploration, we will create categories for the products in our database based on keywords in their descriptions."
   ]
  },
  {
   "cell_type": "code",
   "execution_count": 48,
   "metadata": {},
   "outputs": [
    {
     "data": {
      "text/html": [
       "<div>\n",
       "<style scoped>\n",
       "    .dataframe tbody tr th:only-of-type {\n",
       "        vertical-align: middle;\n",
       "    }\n",
       "\n",
       "    .dataframe tbody tr th {\n",
       "        vertical-align: top;\n",
       "    }\n",
       "\n",
       "    .dataframe thead th {\n",
       "        text-align: right;\n",
       "    }\n",
       "</style>\n",
       "<table border=\"1\" class=\"dataframe\">\n",
       "  <thead>\n",
       "    <tr style=\"text-align: right;\">\n",
       "      <th></th>\n",
       "      <th>description</th>\n",
       "      <th>count</th>\n",
       "      <th>percent</th>\n",
       "      <th>cumulative_count</th>\n",
       "      <th>cumulative_percent</th>\n",
       "    </tr>\n",
       "  </thead>\n",
       "  <tbody>\n",
       "    <tr>\n",
       "      <th>0</th>\n",
       "      <td>White Hanging Heart T-Light Holder</td>\n",
       "      <td>1158</td>\n",
       "      <td>0.404046</td>\n",
       "      <td>1158</td>\n",
       "      <td>0.404046</td>\n",
       "    </tr>\n",
       "    <tr>\n",
       "      <th>1</th>\n",
       "      <td>Jumbo Bag Red Retrospot</td>\n",
       "      <td>1086</td>\n",
       "      <td>0.378924</td>\n",
       "      <td>2244</td>\n",
       "      <td>0.782970</td>\n",
       "    </tr>\n",
       "    <tr>\n",
       "      <th>2</th>\n",
       "      <td>Regency Cakestand 3 Tier</td>\n",
       "      <td>1048</td>\n",
       "      <td>0.365665</td>\n",
       "      <td>3292</td>\n",
       "      <td>1.148635</td>\n",
       "    </tr>\n",
       "    <tr>\n",
       "      <th>3</th>\n",
       "      <td>Party Bunting</td>\n",
       "      <td>989</td>\n",
       "      <td>0.345079</td>\n",
       "      <td>4281</td>\n",
       "      <td>1.493714</td>\n",
       "    </tr>\n",
       "    <tr>\n",
       "      <th>4</th>\n",
       "      <td>Lunch Bag Red Retrospot</td>\n",
       "      <td>830</td>\n",
       "      <td>0.289601</td>\n",
       "      <td>5111</td>\n",
       "      <td>1.783315</td>\n",
       "    </tr>\n",
       "    <tr>\n",
       "      <th>5</th>\n",
       "      <td>Set Of 3 Cake Tins Pantry Design</td>\n",
       "      <td>820</td>\n",
       "      <td>0.286112</td>\n",
       "      <td>5931</td>\n",
       "      <td>2.069428</td>\n",
       "    </tr>\n",
       "    <tr>\n",
       "      <th>6</th>\n",
       "      <td>Assorted Colour Bird Ornament</td>\n",
       "      <td>809</td>\n",
       "      <td>0.282274</td>\n",
       "      <td>6740</td>\n",
       "      <td>2.351701</td>\n",
       "    </tr>\n",
       "    <tr>\n",
       "      <th>7</th>\n",
       "      <td>Natural Slate Heart Chalkboard</td>\n",
       "      <td>738</td>\n",
       "      <td>0.257501</td>\n",
       "      <td>7478</td>\n",
       "      <td>2.609202</td>\n",
       "    </tr>\n",
       "    <tr>\n",
       "      <th>8</th>\n",
       "      <td>Pack Of 72 Retrospot Cake Cases</td>\n",
       "      <td>721</td>\n",
       "      <td>0.251569</td>\n",
       "      <td>8199</td>\n",
       "      <td>2.860772</td>\n",
       "    </tr>\n",
       "    <tr>\n",
       "      <th>9</th>\n",
       "      <td>Paper Chain Kit 50'S Christmas</td>\n",
       "      <td>705</td>\n",
       "      <td>0.245987</td>\n",
       "      <td>8904</td>\n",
       "      <td>3.106758</td>\n",
       "    </tr>\n",
       "  </tbody>\n",
       "</table>\n",
       "</div>"
      ],
      "text/plain": [
       "                          description  count   percent  cumulative_count  \\\n",
       "0  White Hanging Heart T-Light Holder   1158  0.404046              1158   \n",
       "1             Jumbo Bag Red Retrospot   1086  0.378924              2244   \n",
       "2            Regency Cakestand 3 Tier   1048  0.365665              3292   \n",
       "3                       Party Bunting    989  0.345079              4281   \n",
       "4             Lunch Bag Red Retrospot    830  0.289601              5111   \n",
       "5    Set Of 3 Cake Tins Pantry Design    820  0.286112              5931   \n",
       "6       Assorted Colour Bird Ornament    809  0.282274              6740   \n",
       "7      Natural Slate Heart Chalkboard    738  0.257501              7478   \n",
       "8     Pack Of 72 Retrospot Cake Cases    721  0.251569              8199   \n",
       "9      Paper Chain Kit 50'S Christmas    705  0.245987              8904   \n",
       "\n",
       "   cumulative_percent  \n",
       "0            0.404046  \n",
       "1            0.782970  \n",
       "2            1.148635  \n",
       "3            1.493714  \n",
       "4            1.783315  \n",
       "5            2.069428  \n",
       "6            2.351701  \n",
       "7            2.609202  \n",
       "8            2.860772  \n",
       "9            3.106758  "
      ]
     },
     "execution_count": 48,
     "metadata": {},
     "output_type": "execute_result"
    }
   ],
   "source": [
    "new_data.stb.freq(['description']).head(10)"
   ]
  },
  {
   "cell_type": "markdown",
   "metadata": {},
   "source": [
    "As we noticed before, the most popular product was the T-Light Holder by Hanging Heart. This table tells use the frequancy of each product and how often they appear on invoices. There is no dominant product here as our top 10 products had less then a percent."
   ]
  },
  {
   "cell_type": "markdown",
   "metadata": {},
   "source": [
    "### Check if there are any keywords that appear more often?\n",
    "Firstly, we will check the types of keywords in our database and write a lemmitization function, printing the top 50 keywords."
   ]
  },
  {
   "cell_type": "code",
   "execution_count": 49,
   "metadata": {},
   "outputs": [],
   "source": [
    "wordnet_lemma = WordNetLemmatizer()  # Define WordNetLemmatizer object\n",
    "ps = PorterStemmer()\n",
    "\n",
    "lemmas_list_all = []\n",
    "\n",
    "for purpose in df.description.unique():\n",
    "    words = nltk.word_tokenize(purpose)\n",
    "    lemmas = [wordnet_lemma.lemmatize(w, pos = 'n') for w in words]\n",
    "    lemmas=[l.lower() for l in lemmas]\n",
    "    for i in lemmas:\n",
    "        if i==',':\n",
    "            continue\n",
    "        else:    \n",
    "            lemmas_list_all.append(i)"
   ]
  },
  {
   "cell_type": "code",
   "execution_count": 50,
   "metadata": {},
   "outputs": [
    {
     "name": "stdout",
     "output_type": "stream",
     "text": [
      "Top Keywords: [('set', 327), ('pink', 303), ('of', 240), ('heart', 237), ('vintage', 220), ('blue', 217), ('red', 198), ('bag', 171), ('christmas', 157), ('glass', 157), ('box', 140), ('white', 132), ('design', 129), ('holder', 117), ('small', 115), ('flower', 115), ('metal', 111), ('large', 106), ('hanging', 104), ('green', 103), ('decoration', 101), ('necklace', 100), ('black', 99), ('rose', 99), ('wall', 97), ('retrospot', 96), ('3', 95), ('candle', 93), ('t-light', 89), ('card', 88), ('silver', 86), ('paper', 85), ('cake', 83), ('and', 83), ('with', 83), ('in', 79), ('art', 78), ('garden', 72), ('polkadot', 71), ('mug', 71), ('earrings', 69), ('wrap', 68), ('bracelet', 68), ('ivory', 67), ('4', 66), ('cover', 65), ('pack', 64), ('6', 64), ('sign', 64), ('mini', 61)]\n"
     ]
    }
   ],
   "source": [
    "total_words=Counter(lemmas_list_all)\n",
    "top_50=total_words.most_common(50)\n",
    "print(f\"Top Keywords: {top_50}\")"
   ]
  },
  {
   "cell_type": "markdown",
   "metadata": {},
   "source": [
    "Using these keywords, we will try to make a function and group our keywords together to make categories."
   ]
  },
  {
   "cell_type": "markdown",
   "metadata": {},
   "source": [
    "### Use lemmatize to create a function to identify keywords from the description"
   ]
  },
  {
   "cell_type": "code",
   "execution_count": 51,
   "metadata": {},
   "outputs": [],
   "source": [
    "def lemmatization_function(line):\n",
    "    words = nltk.word_tokenize(line)\n",
    "    lemmas = [wordnet_lemma.lemmatize(w,pos='n') for w in words]\n",
    "    lemmas = [l.lower() for l in lemmas]\n",
    "    return lemmas"
   ]
  },
  {
   "cell_type": "code",
   "execution_count": 52,
   "metadata": {},
   "outputs": [],
   "source": [
    "new_data['lemmat_categ']=new_data['description'].apply(lemmatization_function)"
   ]
  },
  {
   "cell_type": "code",
   "execution_count": 53,
   "metadata": {},
   "outputs": [],
   "source": [
    "love_theme = ['heart','love','cupid','pink']\n",
    "vintage_theme = ['vintage','retro','retrospot','antique','traditional','edwardian']\n",
    "home_garden = ['home','garden']\n",
    "greeting_cards = ['birthday','card','cards']\n",
    "kitchen_items = ['cutlery','plate','cake','mug','tea','bottle',\n",
    "                 'apron','kitchen','cakestand','cup','teacup',\n",
    "                 'saucer','teaspoons','recipe','towels','teatowels',\n",
    "                 'herb','popcorn','cookie','cutter','platers','fork',\n",
    "                 'knife','bowl','plates','teapot','cakes',\n",
    "                 'popcorn holder','bread bin']\n",
    "decorative_products = ['decoration','flower','style','doormat','drawerknob',\n",
    "                       'rack','cushion','shelf','polka','picture','frame',\n",
    "                       'bunting','curtain','sign','charm','calm','holder'\n",
    "                       'ornament','chest','drawer','miror','assorted',\n",
    "                       'board','globe']\n",
    "lighting_products = ['candle','t-light','lantern','lamp',\n",
    "                     'tealight','candles','light','lights',\n",
    "                     'candles','hanging']\n",
    "jewellery_products = ['bracelet','necklace','clock','trinket']             \n",
    "christmas_products = ['christmas','fairy', 'tale','santa']\n",
    "bag_products=['bag','bags','jumbo','shopper','lunch','lunch box']\n",
    "assorted_products = ['pack','set','pack of','sets',\n",
    "                     'packs','bags','sleigh']\n",
    "internal = ['post','postage','packaging','commission','manual',\n",
    "            'carriage','Cash']\n",
    "childrens = ['childrens','playhouse','doll','feltcraft',\n",
    "             'plasters']\n",
    "British_products = ['jubilee', 'union', 'jack']\n",
    "glove_products = ['hand','glove','gloves','warmer','hand warmer']"
   ]
  },
  {
   "cell_type": "code",
   "execution_count": 54,
   "metadata": {},
   "outputs": [],
   "source": [
    "#function with only one possible category\n",
    "def lemmatization_func(line):\n",
    "    words = nltk.word_tokenize(line)\n",
    "    lemmas = [wordnet_lemma.lemmatize(w, pos = 'n') for w in words]\n",
    "    lemmas=[l.lower() for l in lemmas]\n",
    "    \n",
    "    if any(words in lemmas for words in love_theme):\n",
    "        return 'Valentines Gifts'\n",
    "    elif any(words in lemmas for words in vintage_theme):\n",
    "        return 'Vintage Gifts'\n",
    "    elif any(words in lemmas for words in home_garden):\n",
    "        return 'Home and Garden'\n",
    "    elif any(words in lemmas for words in decorative_products):\n",
    "        return 'Decorative homewares'\n",
    "    elif  any(words in lemmas for words in kitchen_items):\n",
    "        return 'Kitchen and Cookware'\n",
    "    elif  any(words in lemmas for words in lighting_products):\n",
    "        return 'Lighting and Candles'\n",
    "    elif  any(words in lemmas for words in jewellery_products):\n",
    "        return 'Jewellery and Clocks'\n",
    "    elif any(words in lemmas for words in christmas_products):\n",
    "        return 'Christmas Gifts'\n",
    "    elif any(words in lemmas for words in assorted_products):\n",
    "        return 'Multi-packs and Assorted'\n",
    "    elif any(words in lemmas for words in internal):\n",
    "        return 'Internal'\n",
    "    elif any(words in lemmas for words in childrens):\n",
    "        return \"Children's Products\"\n",
    "    elif any(words in lemmas for words in British_products):\n",
    "        return 'British Products'\n",
    "    elif any(words in lemmas for words in bag_products):\n",
    "        return 'Bags'\n",
    "    elif any(words in lemmas for words in glove_products):\n",
    "        return 'Gloves & Hand Warmers'\n",
    "    elif any(words in lemmas for words in greeting_cards):\n",
    "        return 'Birthdays and Greeting Cards'\n",
    "    \n",
    "    else: return 'Miscellaneous'"
   ]
  },
  {
   "cell_type": "code",
   "execution_count": 55,
   "metadata": {},
   "outputs": [],
   "source": [
    "new_data['productcat']=new_data['description'].apply(lemmatization_func)"
   ]
  },
  {
   "cell_type": "markdown",
   "metadata": {},
   "source": [
    "### Check which are the most selling categories?\n",
    "\n",
    "In the bar chart below, we can observe that decorative homeware products (such as frames, flowers, hanging objects, bunting and ornaments) are the most popular items selling the most in our store."
   ]
  },
  {
   "cell_type": "code",
   "execution_count": 56,
   "metadata": {},
   "outputs": [
    {
     "data": {
      "image/png": "[encoded data removed]",
      "text/plain": [
       "<Figure size 720x360 with 1 Axes>"
      ]
     },
     "metadata": {},
     "output_type": "display_data"
    },
    {
     "name": "stdout",
     "output_type": "stream",
     "text": [
      "                        category  total sales  total sales revenue\n",
      "12                 Miscellaneous         8495           156088.843\n",
      "15                 Vintage Gifts         8324           148848.000\n",
      "14              Valentines Gifts         7997           105440.670\n",
      "5           Decorative homewares         7827           146680.420\n",
      "10          Kitchen and Cookware         7211           129669.770\n",
      "13      Multi-packs and Assorted         5919            56379.530\n",
      "11          Lighting and Candles         4911            37033.120\n",
      "0                           Bags         4496            35606.980\n",
      "7                Home and Garden         3279            40407.660\n",
      "4                Christmas Gifts         2598            14811.310\n",
      "9           Jewellery and Clocks         2034            25639.770\n",
      "1   Birthdays and Greeting Cards         1983             4828.570\n",
      "3            Children's Products         1883            13490.370\n",
      "6          Gloves & Hand Warmers          927             3235.810\n",
      "2               British Products          792             3078.010\n",
      "8                       Internal          104             2383.560\n"
     ]
    }
   ],
   "source": [
    "top_categories=new_data.groupby('productcat').agg({'invoiceno':'nunique', 'unitprice':'sum'}).reset_index()\n",
    "top_categories.columns=['category','total sales', 'total sales revenue']\n",
    "top_categories=top_categories.sort_values(by='total sales',ascending=False)\n",
    "\n",
    "fig, ax = plt.subplots(figsize=(10,5), facecolor=facecolor)\n",
    "sns.barplot(x='category', y='total sales', data=top_categories, palette='pastel')\n",
    "plt.title('sales by category')\n",
    "plt.xticks(rotation=90)\n",
    "plt.show()\n",
    "\n",
    "print(top_categories)"
   ]
  },
  {
   "cell_type": "markdown",
   "metadata": {},
   "source": [
    "As we can see in our visualisation, our most popular items are vintage gifts, valentines gifts, decorative homewares, kitchen items, multi-packs and miscellaneous items."
   ]
  },
  {
   "cell_type": "markdown",
   "metadata": {},
   "source": [
    "### Which products are most popular in each category?"
   ]
  },
  {
   "cell_type": "code",
   "execution_count": 57,
   "metadata": {},
   "outputs": [
    {
     "data": {
      "text/html": [
       "<div>\n",
       "<style scoped>\n",
       "    .dataframe tbody tr th:only-of-type {\n",
       "        vertical-align: middle;\n",
       "    }\n",
       "\n",
       "    .dataframe tbody tr th {\n",
       "        vertical-align: top;\n",
       "    }\n",
       "\n",
       "    .dataframe thead th {\n",
       "        text-align: right;\n",
       "    }\n",
       "</style>\n",
       "<table border=\"1\" class=\"dataframe\">\n",
       "  <thead>\n",
       "    <tr style=\"text-align: right;\">\n",
       "      <th></th>\n",
       "      <th>description</th>\n",
       "      <th>orders_nu</th>\n",
       "      <th>avg_order_size</th>\n",
       "      <th>avg_price</th>\n",
       "    </tr>\n",
       "  </thead>\n",
       "  <tbody>\n",
       "    <tr>\n",
       "      <th>324</th>\n",
       "      <td>Party Bunting</td>\n",
       "      <td>979</td>\n",
       "      <td>10.230536</td>\n",
       "      <td>5.770000</td>\n",
       "    </tr>\n",
       "    <tr>\n",
       "      <th>19</th>\n",
       "      <td>Assorted Colour Bird Ornament</td>\n",
       "      <td>795</td>\n",
       "      <td>17.203956</td>\n",
       "      <td>1.726885</td>\n",
       "    </tr>\n",
       "    <tr>\n",
       "      <th>405</th>\n",
       "      <td>Spotty Bunting</td>\n",
       "      <td>683</td>\n",
       "      <td>6.367052</td>\n",
       "      <td>5.575549</td>\n",
       "    </tr>\n",
       "    <tr>\n",
       "      <th>218</th>\n",
       "      <td>Gardeners Kneeling Pad Keep Calm</td>\n",
       "      <td>600</td>\n",
       "      <td>9.608264</td>\n",
       "      <td>1.960182</td>\n",
       "    </tr>\n",
       "    <tr>\n",
       "      <th>5</th>\n",
       "      <td>6 Ribbons Rustic Charm</td>\n",
       "      <td>542</td>\n",
       "      <td>8.498175</td>\n",
       "      <td>2.213449</td>\n",
       "    </tr>\n",
       "    <tr>\n",
       "      <th>453</th>\n",
       "      <td>Wooden Picture Frame White Finish</td>\n",
       "      <td>538</td>\n",
       "      <td>5.900000</td>\n",
       "      <td>3.142037</td>\n",
       "    </tr>\n",
       "    <tr>\n",
       "      <th>251</th>\n",
       "      <td>Hot Water Bottle Keep Calm</td>\n",
       "      <td>482</td>\n",
       "      <td>6.370143</td>\n",
       "      <td>5.264233</td>\n",
       "    </tr>\n",
       "    <tr>\n",
       "      <th>346</th>\n",
       "      <td>Please One Person Metal Sign</td>\n",
       "      <td>435</td>\n",
       "      <td>9.576923</td>\n",
       "      <td>2.382081</td>\n",
       "    </tr>\n",
       "    <tr>\n",
       "      <th>135</th>\n",
       "      <td>Doormat Keep Calm And Come In</td>\n",
       "      <td>425</td>\n",
       "      <td>4.380841</td>\n",
       "      <td>8.890023</td>\n",
       "    </tr>\n",
       "    <tr>\n",
       "      <th>219</th>\n",
       "      <td>Gin + Tonic Diet Metal Sign</td>\n",
       "      <td>359</td>\n",
       "      <td>18.908587</td>\n",
       "      <td>2.717618</td>\n",
       "    </tr>\n",
       "  </tbody>\n",
       "</table>\n",
       "</div>"
      ],
      "text/plain": [
       "                           description  orders_nu  avg_order_size  avg_price\n",
       "324                      Party Bunting        979       10.230536   5.770000\n",
       "19       Assorted Colour Bird Ornament        795       17.203956   1.726885\n",
       "405                     Spotty Bunting        683        6.367052   5.575549\n",
       "218   Gardeners Kneeling Pad Keep Calm        600        9.608264   1.960182\n",
       "5               6 Ribbons Rustic Charm        542        8.498175   2.213449\n",
       "453  Wooden Picture Frame White Finish        538        5.900000   3.142037\n",
       "251         Hot Water Bottle Keep Calm        482        6.370143   5.264233\n",
       "346       Please One Person Metal Sign        435        9.576923   2.382081\n",
       "135      Doormat Keep Calm And Come In        425        4.380841   8.890023\n",
       "219        Gin + Tonic Diet Metal Sign        359       18.908587   2.717618"
      ]
     },
     "execution_count": 57,
     "metadata": {},
     "output_type": "execute_result"
    }
   ],
   "source": [
    "dec_home=new_data[new_data['productcat']=='Decorative homewares']\n",
    "dec_home.groupby('description').agg(\n",
    "    {'invoiceno':'nunique','quantity':'mean','unitprice':'mean'}).reset_index().rename(\n",
    "    columns={'invoiceno':'orders_nu','quantity':'avg_order_size','unitprice':'avg_price'}).sort_values(by='orders_nu',ascending=False).head(10)"
   ]
  },
  {
   "cell_type": "markdown",
   "metadata": {},
   "source": [
    "In the decorative category our top selling products were party bunting with 1,638 orders and an average order size of 10.9, followed by Color Bird Ornament and wooden picture frames with an order size of 24.7 and 7.34 respectively. The items with the highest average order size was the Assorted Color Bird Ornament with 24.78."
   ]
  },
  {
   "cell_type": "code",
   "execution_count": 58,
   "metadata": {},
   "outputs": [
    {
     "data": {
      "text/html": [
       "<div>\n",
       "<style scoped>\n",
       "    .dataframe tbody tr th:only-of-type {\n",
       "        vertical-align: middle;\n",
       "    }\n",
       "\n",
       "    .dataframe tbody tr th {\n",
       "        vertical-align: top;\n",
       "    }\n",
       "\n",
       "    .dataframe thead th {\n",
       "        text-align: right;\n",
       "    }\n",
       "</style>\n",
       "<table border=\"1\" class=\"dataframe\">\n",
       "  <thead>\n",
       "    <tr style=\"text-align: right;\">\n",
       "      <th></th>\n",
       "      <th>description</th>\n",
       "      <th>orders_nu</th>\n",
       "      <th>avg_order_size</th>\n",
       "      <th>avg_price</th>\n",
       "    </tr>\n",
       "  </thead>\n",
       "  <tbody>\n",
       "    <tr>\n",
       "      <th>32</th>\n",
       "      <td>Jam Making Set With Jars</td>\n",
       "      <td>672</td>\n",
       "      <td>6.216939</td>\n",
       "      <td>5.096107</td>\n",
       "    </tr>\n",
       "    <tr>\n",
       "      <th>31</th>\n",
       "      <td>Jam Making Set Printed</td>\n",
       "      <td>646</td>\n",
       "      <td>12.154560</td>\n",
       "      <td>1.886198</td>\n",
       "    </tr>\n",
       "    <tr>\n",
       "      <th>183</th>\n",
       "      <td>Set Of 4 Pantry Jelly Moulds</td>\n",
       "      <td>618</td>\n",
       "      <td>9.968304</td>\n",
       "      <td>1.496989</td>\n",
       "    </tr>\n",
       "    <tr>\n",
       "      <th>201</th>\n",
       "      <td>Set Of 6 Spice Tins Pantry Design</td>\n",
       "      <td>498</td>\n",
       "      <td>5.222004</td>\n",
       "      <td>4.740491</td>\n",
       "    </tr>\n",
       "    <tr>\n",
       "      <th>66</th>\n",
       "      <td>Pack Of 20 Napkins Pantry Design</td>\n",
       "      <td>408</td>\n",
       "      <td>8.092637</td>\n",
       "      <td>0.997316</td>\n",
       "    </tr>\n",
       "    <tr>\n",
       "      <th>86</th>\n",
       "      <td>Round Snack Boxes Set Of4 Woodland</td>\n",
       "      <td>366</td>\n",
       "      <td>8.418033</td>\n",
       "      <td>3.409290</td>\n",
       "    </tr>\n",
       "    <tr>\n",
       "      <th>0</th>\n",
       "      <td>Baking Set Spaceboy Design</td>\n",
       "      <td>327</td>\n",
       "      <td>4.563636</td>\n",
       "      <td>5.537424</td>\n",
       "    </tr>\n",
       "    <tr>\n",
       "      <th>227</th>\n",
       "      <td>Zinc Folkart Sleigh Bells</td>\n",
       "      <td>300</td>\n",
       "      <td>10.439344</td>\n",
       "      <td>2.332328</td>\n",
       "    </tr>\n",
       "    <tr>\n",
       "      <th>200</th>\n",
       "      <td>Set Of 6 Soldier Skittles</td>\n",
       "      <td>296</td>\n",
       "      <td>5.298658</td>\n",
       "      <td>4.554128</td>\n",
       "    </tr>\n",
       "    <tr>\n",
       "      <th>224</th>\n",
       "      <td>Wooden School Colouring Set</td>\n",
       "      <td>293</td>\n",
       "      <td>11.099668</td>\n",
       "      <td>1.792525</td>\n",
       "    </tr>\n",
       "  </tbody>\n",
       "</table>\n",
       "</div>"
      ],
      "text/plain": [
       "                            description  orders_nu  avg_order_size  avg_price\n",
       "32             Jam Making Set With Jars        672        6.216939   5.096107\n",
       "31               Jam Making Set Printed        646       12.154560   1.886198\n",
       "183        Set Of 4 Pantry Jelly Moulds        618        9.968304   1.496989\n",
       "201   Set Of 6 Spice Tins Pantry Design        498        5.222004   4.740491\n",
       "66     Pack Of 20 Napkins Pantry Design        408        8.092637   0.997316\n",
       "86   Round Snack Boxes Set Of4 Woodland        366        8.418033   3.409290\n",
       "0            Baking Set Spaceboy Design        327        4.563636   5.537424\n",
       "227           Zinc Folkart Sleigh Bells        300       10.439344   2.332328\n",
       "200           Set Of 6 Soldier Skittles        296        5.298658   4.554128\n",
       "224         Wooden School Colouring Set        293       11.099668   1.792525"
      ]
     },
     "execution_count": 58,
     "metadata": {},
     "output_type": "execute_result"
    }
   ],
   "source": [
    "multi_sets=new_data[new_data['productcat']=='Multi-packs and Assorted']\n",
    "multi_sets.groupby('description').agg(\n",
    "    {'invoiceno':'nunique','quantity':'mean','unitprice':'mean'}).reset_index().rename(\n",
    "    columns={'invoiceno':'orders_nu','quantity':'avg_order_size','unitprice':'avg_price'}).sort_values(by='orders_nu',ascending=False).head(10)"
   ]
  },
  {
   "cell_type": "markdown",
   "metadata": {},
   "source": [
    "Assorted packs and sets were purchased mostly kitchen and home related with jelly moulds being the most popular set with 11073 orders and an everage order size of 11.6. Jam making sets, spice tins and snake boxes were some of the other popular items in our product dataset."
   ]
  },
  {
   "cell_type": "code",
   "execution_count": 59,
   "metadata": {},
   "outputs": [
    {
     "data": {
      "text/html": [
       "<div>\n",
       "<style scoped>\n",
       "    .dataframe tbody tr th:only-of-type {\n",
       "        vertical-align: middle;\n",
       "    }\n",
       "\n",
       "    .dataframe tbody tr th {\n",
       "        vertical-align: top;\n",
       "    }\n",
       "\n",
       "    .dataframe thead th {\n",
       "        text-align: right;\n",
       "    }\n",
       "</style>\n",
       "<table border=\"1\" class=\"dataframe\">\n",
       "  <thead>\n",
       "    <tr style=\"text-align: right;\">\n",
       "      <th></th>\n",
       "      <th>description</th>\n",
       "      <th>orders_nu</th>\n",
       "      <th>avg_order_size</th>\n",
       "      <th>avg_price</th>\n",
       "    </tr>\n",
       "  </thead>\n",
       "  <tbody>\n",
       "    <tr>\n",
       "      <th>477</th>\n",
       "      <td>White Hanging Heart T-Light Holder</td>\n",
       "      <td>1126</td>\n",
       "      <td>13.074266</td>\n",
       "      <td>3.134473</td>\n",
       "    </tr>\n",
       "    <tr>\n",
       "      <th>239</th>\n",
       "      <td>Natural Slate Heart Chalkboard</td>\n",
       "      <td>733</td>\n",
       "      <td>7.574526</td>\n",
       "      <td>3.564797</td>\n",
       "    </tr>\n",
       "    <tr>\n",
       "      <th>171</th>\n",
       "      <td>Heart Of Wicker Small</td>\n",
       "      <td>651</td>\n",
       "      <td>10.004511</td>\n",
       "      <td>1.870075</td>\n",
       "    </tr>\n",
       "    <tr>\n",
       "      <th>224</th>\n",
       "      <td>Lunch Bag Pink Polkadot</td>\n",
       "      <td>610</td>\n",
       "      <td>7.871545</td>\n",
       "      <td>1.986407</td>\n",
       "    </tr>\n",
       "    <tr>\n",
       "      <th>197</th>\n",
       "      <td>Jumbo Bag Pink Polkadot</td>\n",
       "      <td>587</td>\n",
       "      <td>10.117253</td>\n",
       "      <td>2.584590</td>\n",
       "    </tr>\n",
       "    <tr>\n",
       "      <th>246</th>\n",
       "      <td>Pack Of 60 Pink Paisley Cake Cases</td>\n",
       "      <td>528</td>\n",
       "      <td>24.631086</td>\n",
       "      <td>0.744195</td>\n",
       "    </tr>\n",
       "    <tr>\n",
       "      <th>170</th>\n",
       "      <td>Heart Of Wicker Large</td>\n",
       "      <td>499</td>\n",
       "      <td>5.623274</td>\n",
       "      <td>3.213866</td>\n",
       "    </tr>\n",
       "    <tr>\n",
       "      <th>151</th>\n",
       "      <td>Hanging Heart Jar T-Light Holder</td>\n",
       "      <td>436</td>\n",
       "      <td>13.988636</td>\n",
       "      <td>1.533682</td>\n",
       "    </tr>\n",
       "    <tr>\n",
       "      <th>361</th>\n",
       "      <td>Pink Regency Teacup And Saucer</td>\n",
       "      <td>431</td>\n",
       "      <td>6.357143</td>\n",
       "      <td>3.730092</td>\n",
       "    </tr>\n",
       "    <tr>\n",
       "      <th>441</th>\n",
       "      <td>Small White Heart Of Wicker</td>\n",
       "      <td>416</td>\n",
       "      <td>6.910588</td>\n",
       "      <td>1.761812</td>\n",
       "    </tr>\n",
       "  </tbody>\n",
       "</table>\n",
       "</div>"
      ],
      "text/plain": [
       "                            description  orders_nu  avg_order_size  avg_price\n",
       "477  White Hanging Heart T-Light Holder       1126       13.074266   3.134473\n",
       "239      Natural Slate Heart Chalkboard        733        7.574526   3.564797\n",
       "171               Heart Of Wicker Small        651       10.004511   1.870075\n",
       "224             Lunch Bag Pink Polkadot        610        7.871545   1.986407\n",
       "197             Jumbo Bag Pink Polkadot        587       10.117253   2.584590\n",
       "246  Pack Of 60 Pink Paisley Cake Cases        528       24.631086   0.744195\n",
       "170               Heart Of Wicker Large        499        5.623274   3.213866\n",
       "151    Hanging Heart Jar T-Light Holder        436       13.988636   1.533682\n",
       "361      Pink Regency Teacup And Saucer        431        6.357143   3.730092\n",
       "441         Small White Heart Of Wicker        416        6.910588   1.761812"
      ]
     },
     "execution_count": 59,
     "metadata": {},
     "output_type": "execute_result"
    }
   ],
   "source": [
    "love_gifts=new_data[new_data['productcat']=='Valentines Gifts']\n",
    "love_gifts.groupby('description').agg(\n",
    "    {'invoiceno':'nunique','quantity':'mean','unitprice':'mean'}).reset_index().rename(\n",
    "    columns={'invoiceno':'orders_nu','quantity':'avg_order_size','unitprice':'avg_price'}).sort_values(by='orders_nu',ascending=False).head(10)"
   ]
  },
  {
   "cell_type": "markdown",
   "metadata": {},
   "source": [
    "Heart-shaped items, pink gifts, cake cases, and love-related products for Valentine's Day are consistently popular among our customers. Notably, these items exhibit both a high average order size and a relatively low value, mirroring the trend observed with our assorted sets and multi-packs."
   ]
  },
  {
   "cell_type": "code",
   "execution_count": 60,
   "metadata": {},
   "outputs": [
    {
     "data": {
      "text/html": [
       "<div>\n",
       "<style scoped>\n",
       "    .dataframe tbody tr th:only-of-type {\n",
       "        vertical-align: middle;\n",
       "    }\n",
       "\n",
       "    .dataframe tbody tr th {\n",
       "        vertical-align: top;\n",
       "    }\n",
       "\n",
       "    .dataframe thead th {\n",
       "        text-align: right;\n",
       "    }\n",
       "</style>\n",
       "<table border=\"1\" class=\"dataframe\">\n",
       "  <thead>\n",
       "    <tr style=\"text-align: right;\">\n",
       "      <th></th>\n",
       "      <th>description</th>\n",
       "      <th>orders_nu</th>\n",
       "      <th>avg_order_size</th>\n",
       "      <th>avg_price</th>\n",
       "    </tr>\n",
       "  </thead>\n",
       "  <tbody>\n",
       "    <tr>\n",
       "      <th>95</th>\n",
       "      <td>Jumbo Bag Red Retrospot</td>\n",
       "      <td>1074</td>\n",
       "      <td>17.290055</td>\n",
       "      <td>2.464982</td>\n",
       "    </tr>\n",
       "    <tr>\n",
       "      <th>105</th>\n",
       "      <td>Lunch Bag Red Retrospot</td>\n",
       "      <td>819</td>\n",
       "      <td>9.919277</td>\n",
       "      <td>2.081349</td>\n",
       "    </tr>\n",
       "    <tr>\n",
       "      <th>140</th>\n",
       "      <td>Pack Of 72 Retrospot Cake Cases</td>\n",
       "      <td>701</td>\n",
       "      <td>19.252427</td>\n",
       "      <td>0.745756</td>\n",
       "    </tr>\n",
       "    <tr>\n",
       "      <th>37</th>\n",
       "      <td>Baking Set 9 Piece Retrospot</td>\n",
       "      <td>693</td>\n",
       "      <td>4.544540</td>\n",
       "      <td>5.416897</td>\n",
       "    </tr>\n",
       "    <tr>\n",
       "      <th>219</th>\n",
       "      <td>Retrospot Tea Set Ceramic 11 Pc</td>\n",
       "      <td>625</td>\n",
       "      <td>4.904153</td>\n",
       "      <td>5.763163</td>\n",
       "    </tr>\n",
       "    <tr>\n",
       "      <th>339</th>\n",
       "      <td>Vintage Snap Cards</td>\n",
       "      <td>588</td>\n",
       "      <td>13.456998</td>\n",
       "      <td>1.005987</td>\n",
       "    </tr>\n",
       "    <tr>\n",
       "      <th>100</th>\n",
       "      <td>Jumbo Shopper Vintage Red Paisley</td>\n",
       "      <td>557</td>\n",
       "      <td>8.797853</td>\n",
       "      <td>2.672755</td>\n",
       "    </tr>\n",
       "    <tr>\n",
       "      <th>166</th>\n",
       "      <td>Red Retrospot Charlotte Bag</td>\n",
       "      <td>548</td>\n",
       "      <td>15.621622</td>\n",
       "      <td>1.132505</td>\n",
       "    </tr>\n",
       "    <tr>\n",
       "      <th>252</th>\n",
       "      <td>Set/5 Red Retrospot Lid Glass Bowls</td>\n",
       "      <td>531</td>\n",
       "      <td>5.466543</td>\n",
       "      <td>3.274015</td>\n",
       "    </tr>\n",
       "    <tr>\n",
       "      <th>249</th>\n",
       "      <td>Set/20 Red Retrospot Paper Napkins</td>\n",
       "      <td>492</td>\n",
       "      <td>9.347913</td>\n",
       "      <td>1.078946</td>\n",
       "    </tr>\n",
       "  </tbody>\n",
       "</table>\n",
       "</div>"
      ],
      "text/plain": [
       "                             description  orders_nu  avg_order_size  avg_price\n",
       "95               Jumbo Bag Red Retrospot       1074       17.290055   2.464982\n",
       "105              Lunch Bag Red Retrospot        819        9.919277   2.081349\n",
       "140      Pack Of 72 Retrospot Cake Cases        701       19.252427   0.745756\n",
       "37          Baking Set 9 Piece Retrospot        693        4.544540   5.416897\n",
       "219      Retrospot Tea Set Ceramic 11 Pc        625        4.904153   5.763163\n",
       "339                   Vintage Snap Cards        588       13.456998   1.005987\n",
       "100    Jumbo Shopper Vintage Red Paisley        557        8.797853   2.672755\n",
       "166          Red Retrospot Charlotte Bag        548       15.621622   1.132505\n",
       "252  Set/5 Red Retrospot Lid Glass Bowls        531        5.466543   3.274015\n",
       "249   Set/20 Red Retrospot Paper Napkins        492        9.347913   1.078946"
      ]
     },
     "execution_count": 60,
     "metadata": {},
     "output_type": "execute_result"
    }
   ],
   "source": [
    "dec_home=new_data[new_data['productcat']=='Vintage Gifts']\n",
    "dec_home.groupby('description').agg(\n",
    "    {'invoiceno':'nunique','quantity':'mean','unitprice':'mean'}).reset_index().rename(\n",
    "    columns={'invoiceno':'orders_nu','quantity':'avg_order_size','unitprice':'avg_price'}).sort_values(by='orders_nu',ascending=False).head(10)"
   ]
  },
  {
   "cell_type": "markdown",
   "metadata": {},
   "source": [
    "Retro and vintage themed items included the retrospot themed colors and vintage paisley designs. Most of these items were purchased in bulk with most average orders being over 10 items."
   ]
  },
  {
   "cell_type": "code",
   "execution_count": 61,
   "metadata": {},
   "outputs": [
    {
     "data": {
      "text/html": [
       "<div>\n",
       "<style scoped>\n",
       "    .dataframe tbody tr th:only-of-type {\n",
       "        vertical-align: middle;\n",
       "    }\n",
       "\n",
       "    .dataframe tbody tr th {\n",
       "        vertical-align: top;\n",
       "    }\n",
       "\n",
       "    .dataframe thead th {\n",
       "        text-align: right;\n",
       "    }\n",
       "</style>\n",
       "<table border=\"1\" class=\"dataframe\">\n",
       "  <thead>\n",
       "    <tr style=\"text-align: right;\">\n",
       "      <th></th>\n",
       "      <th>description</th>\n",
       "      <th>orders_nu</th>\n",
       "      <th>avg_order_size</th>\n",
       "      <th>avg_price</th>\n",
       "    </tr>\n",
       "  </thead>\n",
       "  <tbody>\n",
       "    <tr>\n",
       "      <th>823</th>\n",
       "      <td>Red  Harmonica In Box</td>\n",
       "      <td>409</td>\n",
       "      <td>38.851220</td>\n",
       "      <td>1.422512</td>\n",
       "    </tr>\n",
       "    <tr>\n",
       "      <th>129</th>\n",
       "      <td>Blue Harmonica In Box</td>\n",
       "      <td>352</td>\n",
       "      <td>13.234637</td>\n",
       "      <td>1.414860</td>\n",
       "    </tr>\n",
       "    <tr>\n",
       "      <th>1120</th>\n",
       "      <td>Wooden Box Of Dominoes</td>\n",
       "      <td>349</td>\n",
       "      <td>8.811798</td>\n",
       "      <td>1.560927</td>\n",
       "    </tr>\n",
       "    <tr>\n",
       "      <th>1127</th>\n",
       "      <td>World War 2 Gliders Asstd Designs</td>\n",
       "      <td>336</td>\n",
       "      <td>105.511905</td>\n",
       "      <td>0.322679</td>\n",
       "    </tr>\n",
       "    <tr>\n",
       "      <th>734</th>\n",
       "      <td>Pantry Magnetic  Shopping List</td>\n",
       "      <td>308</td>\n",
       "      <td>6.085987</td>\n",
       "      <td>1.805764</td>\n",
       "    </tr>\n",
       "    <tr>\n",
       "      <th>166</th>\n",
       "      <td>Box Of 6 Mini 50'S Crackers</td>\n",
       "      <td>286</td>\n",
       "      <td>8.489726</td>\n",
       "      <td>2.658425</td>\n",
       "    </tr>\n",
       "    <tr>\n",
       "      <th>882</th>\n",
       "      <td>Scandinavian Reds Ribbons</td>\n",
       "      <td>268</td>\n",
       "      <td>6.702206</td>\n",
       "      <td>1.736765</td>\n",
       "    </tr>\n",
       "    <tr>\n",
       "      <th>699</th>\n",
       "      <td>Natural Slate Chalkboard Large</td>\n",
       "      <td>262</td>\n",
       "      <td>3.561069</td>\n",
       "      <td>6.360534</td>\n",
       "    </tr>\n",
       "    <tr>\n",
       "      <th>700</th>\n",
       "      <td>Natural Slate Rectangle Chalkboard</td>\n",
       "      <td>260</td>\n",
       "      <td>8.835249</td>\n",
       "      <td>2.028352</td>\n",
       "    </tr>\n",
       "    <tr>\n",
       "      <th>1026</th>\n",
       "      <td>Travel Sewing Kit</td>\n",
       "      <td>254</td>\n",
       "      <td>8.315175</td>\n",
       "      <td>1.995642</td>\n",
       "    </tr>\n",
       "  </tbody>\n",
       "</table>\n",
       "</div>"
      ],
      "text/plain": [
       "                             description  orders_nu  avg_order_size  avg_price\n",
       "823                Red  Harmonica In Box        409       38.851220   1.422512\n",
       "129                Blue Harmonica In Box        352       13.234637   1.414860\n",
       "1120              Wooden Box Of Dominoes        349        8.811798   1.560927\n",
       "1127   World War 2 Gliders Asstd Designs        336      105.511905   0.322679\n",
       "734       Pantry Magnetic  Shopping List        308        6.085987   1.805764\n",
       "166          Box Of 6 Mini 50'S Crackers        286        8.489726   2.658425\n",
       "882            Scandinavian Reds Ribbons        268        6.702206   1.736765\n",
       "699       Natural Slate Chalkboard Large        262        3.561069   6.360534\n",
       "700   Natural Slate Rectangle Chalkboard        260        8.835249   2.028352\n",
       "1026                   Travel Sewing Kit        254        8.315175   1.995642"
      ]
     },
     "execution_count": 61,
     "metadata": {},
     "output_type": "execute_result"
    }
   ],
   "source": [
    "misc_cat=new_data[new_data['productcat']=='Miscellaneous']\n",
    "misc_cat.groupby('description').agg(\n",
    "    {'invoiceno':'nunique','quantity':'mean','unitprice':'mean'}).reset_index().rename(\n",
    "    columns={'invoiceno':'orders_nu','quantity':'avg_order_size','unitprice':'avg_price'}).sort_values(by='orders_nu',ascending=False).head(10)"
   ]
  },
  {
   "cell_type": "markdown",
   "metadata": {},
   "source": [
    "In the miscellaneous category, our range includes shopping lists, musical items, WW2 gliders, and clothing hangers. These items stand out as some of our most popular products in this category."
   ]
  },
  {
   "cell_type": "code",
   "execution_count": 62,
   "metadata": {},
   "outputs": [
    {
     "data": {
      "text/html": [
       "<div>\n",
       "<style scoped>\n",
       "    .dataframe tbody tr th:only-of-type {\n",
       "        vertical-align: middle;\n",
       "    }\n",
       "\n",
       "    .dataframe tbody tr th {\n",
       "        vertical-align: top;\n",
       "    }\n",
       "\n",
       "    .dataframe thead th {\n",
       "        text-align: right;\n",
       "    }\n",
       "</style>\n",
       "<table border=\"1\" class=\"dataframe\">\n",
       "  <thead>\n",
       "    <tr style=\"text-align: right;\">\n",
       "      <th></th>\n",
       "      <th>description</th>\n",
       "      <th>orders_nu</th>\n",
       "      <th>avg_order_size</th>\n",
       "      <th>avg_price</th>\n",
       "    </tr>\n",
       "  </thead>\n",
       "  <tbody>\n",
       "    <tr>\n",
       "      <th>214</th>\n",
       "      <td>Regency Cakestand 3 Tier</td>\n",
       "      <td>1038</td>\n",
       "      <td>4.270992</td>\n",
       "      <td>13.991889</td>\n",
       "    </tr>\n",
       "    <tr>\n",
       "      <th>239</th>\n",
       "      <td>Set Of 3 Cake Tins Pantry Design</td>\n",
       "      <td>817</td>\n",
       "      <td>4.285366</td>\n",
       "      <td>5.843463</td>\n",
       "    </tr>\n",
       "    <tr>\n",
       "      <th>207</th>\n",
       "      <td>Recipe Box Pantry Yellow Design</td>\n",
       "      <td>638</td>\n",
       "      <td>6.358140</td>\n",
       "      <td>3.640760</td>\n",
       "    </tr>\n",
       "    <tr>\n",
       "      <th>222</th>\n",
       "      <td>Roses Regency Teacup And Saucer</td>\n",
       "      <td>555</td>\n",
       "      <td>6.880357</td>\n",
       "      <td>3.652071</td>\n",
       "    </tr>\n",
       "    <tr>\n",
       "      <th>126</th>\n",
       "      <td>Green Regency Teacup And Saucer</td>\n",
       "      <td>533</td>\n",
       "      <td>6.300557</td>\n",
       "      <td>3.788386</td>\n",
       "    </tr>\n",
       "    <tr>\n",
       "      <th>241</th>\n",
       "      <td>Set Of 3 Regency Cake Tins</td>\n",
       "      <td>482</td>\n",
       "      <td>5.154959</td>\n",
       "      <td>5.865537</td>\n",
       "    </tr>\n",
       "    <tr>\n",
       "      <th>113</th>\n",
       "      <td>Gardeners Kneeling Pad Cup Of Tea</td>\n",
       "      <td>478</td>\n",
       "      <td>9.281573</td>\n",
       "      <td>1.938944</td>\n",
       "    </tr>\n",
       "    <tr>\n",
       "      <th>8</th>\n",
       "      <td>60 Teatime Fairy Cake Cases</td>\n",
       "      <td>458</td>\n",
       "      <td>15.391026</td>\n",
       "      <td>0.681068</td>\n",
       "    </tr>\n",
       "    <tr>\n",
       "      <th>201</th>\n",
       "      <td>Popcorn Holder</td>\n",
       "      <td>442</td>\n",
       "      <td>21.279121</td>\n",
       "      <td>1.019341</td>\n",
       "    </tr>\n",
       "    <tr>\n",
       "      <th>73</th>\n",
       "      <td>Chocolate Hot Water Bottle</td>\n",
       "      <td>425</td>\n",
       "      <td>5.846512</td>\n",
       "      <td>5.955953</td>\n",
       "    </tr>\n",
       "  </tbody>\n",
       "</table>\n",
       "</div>"
      ],
      "text/plain": [
       "                           description  orders_nu  avg_order_size  avg_price\n",
       "214           Regency Cakestand 3 Tier       1038        4.270992  13.991889\n",
       "239   Set Of 3 Cake Tins Pantry Design        817        4.285366   5.843463\n",
       "207    Recipe Box Pantry Yellow Design        638        6.358140   3.640760\n",
       "222    Roses Regency Teacup And Saucer        555        6.880357   3.652071\n",
       "126    Green Regency Teacup And Saucer        533        6.300557   3.788386\n",
       "241         Set Of 3 Regency Cake Tins        482        5.154959   5.865537\n",
       "113  Gardeners Kneeling Pad Cup Of Tea        478        9.281573   1.938944\n",
       "8          60 Teatime Fairy Cake Cases        458       15.391026   0.681068\n",
       "201                     Popcorn Holder        442       21.279121   1.019341\n",
       "73          Chocolate Hot Water Bottle        425        5.846512   5.955953"
      ]
     },
     "execution_count": 62,
     "metadata": {},
     "output_type": "execute_result"
    }
   ],
   "source": [
    "cookware_items=new_data[new_data['productcat']=='Kitchen and Cookware']\n",
    "cookware_items.groupby('description').agg(\n",
    "    {'invoiceno':'nunique','quantity':'mean','unitprice':'mean'}).reset_index().rename(\n",
    "    columns={'invoiceno':'orders_nu','quantity':'avg_order_size','unitprice':'avg_price'}).sort_values(by='orders_nu',ascending=False).head(10)"
   ]
  },
  {
   "cell_type": "markdown",
   "metadata": {},
   "source": [
    "In our cookware category, cake stands remain the most popular items. Additionally, our teacups and saucers boast an average order size of 8.45, indicating strong customer interest. Sets of cake tins have also emerged as popular choices among our customers."
   ]
  },
  {
   "cell_type": "markdown",
   "metadata": {},
   "source": [
    "Based on our observations, we can now formulate our second hypothesis where we determine whether our cookware category is more valuable then the other categories in our store. This is because we have high value items and quantity in the cookware category and we need to understand whether efforts can be focused to ;romote these items further.\n",
    "\n",
    "<b>First Hypothesis:</b>\n",
    "- H0: Cookware items have a higher average revenue per invoice then other categories.\n",
    "\n",
    "- H1: There is no significant difference between the revenue in the categories.\n"
   ]
  },
  {
   "cell_type": "markdown",
   "metadata": {},
   "source": [
    "### Checking the number of unique products we sell per day"
   ]
  },
  {
   "cell_type": "markdown",
   "metadata": {},
   "source": [
    "Above we creating a day/time column by diving the total hours by 8 to split our day up\n",
    "\n",
    "- Hours 0-7 will all get mapped to 0\n",
    "- Hours 8-15 will all get mapped to 1\n",
    "- Hours 16-23 will all get mapped to 2"
   ]
  },
  {
   "cell_type": "code",
   "execution_count": 63,
   "metadata": {},
   "outputs": [
    {
     "data": {
      "text/html": [
       "<div>\n",
       "<style scoped>\n",
       "    .dataframe tbody tr th:only-of-type {\n",
       "        vertical-align: middle;\n",
       "    }\n",
       "\n",
       "    .dataframe tbody tr th {\n",
       "        vertical-align: top;\n",
       "    }\n",
       "\n",
       "    .dataframe thead th {\n",
       "        text-align: right;\n",
       "    }\n",
       "</style>\n",
       "<table border=\"1\" class=\"dataframe\">\n",
       "  <thead>\n",
       "    <tr style=\"text-align: right;\">\n",
       "      <th></th>\n",
       "      <th>invoiceday</th>\n",
       "      <th>products_nu</th>\n",
       "    </tr>\n",
       "  </thead>\n",
       "  <tbody>\n",
       "    <tr>\n",
       "      <th>1</th>\n",
       "      <td>1</td>\n",
       "      <td>3731</td>\n",
       "    </tr>\n",
       "    <tr>\n",
       "      <th>2</th>\n",
       "      <td>2</td>\n",
       "      <td>3300</td>\n",
       "    </tr>\n",
       "    <tr>\n",
       "      <th>0</th>\n",
       "      <td>0</td>\n",
       "      <td>190</td>\n",
       "    </tr>\n",
       "  </tbody>\n",
       "</table>\n",
       "</div>"
      ],
      "text/plain": [
       "   invoiceday  products_nu\n",
       "1           1         3731\n",
       "2           2         3300\n",
       "0           0          190"
      ]
     },
     "execution_count": 63,
     "metadata": {},
     "output_type": "execute_result"
    }
   ],
   "source": [
    "unique_products_by_day=new_data.groupby('daytime').agg({'description':'nunique'}).reset_index()\n",
    "unique_products_by_day.columns=['invoiceday','products_nu']\n",
    "unique_products_by_day.sort_values(by='products_nu',ascending=False)"
   ]
  },
  {
   "cell_type": "code",
   "execution_count": 64,
   "metadata": {},
   "outputs": [],
   "source": [
    "late_buyers = new_data.loc[new_data['daytime'].isin([2,0]), 'total_value']\n",
    "daytime_buyers = new_data.loc[new_data['daytime']==1, 'total_value']"
   ]
  },
  {
   "cell_type": "code",
   "execution_count": 65,
   "metadata": {},
   "outputs": [
    {
     "data": {
      "image/png": "[encoded data removed]",
      "text/plain": [
       "<Figure size 432x288 with 1 Axes>"
      ]
     },
     "metadata": {},
     "output_type": "display_data"
    }
   ],
   "source": [
    "late_buyers.plot(kind='box')\n",
    "plt.title('Distribution of Late Buyers Revenue')\n",
    "plt.show()"
   ]
  },
  {
   "cell_type": "code",
   "execution_count": 66,
   "metadata": {},
   "outputs": [
    {
     "data": {
      "image/png": "[encoded data removed]",
      "text/plain": [
       "<Figure size 432x288 with 1 Axes>"
      ]
     },
     "metadata": {},
     "output_type": "display_data"
    }
   ],
   "source": [
    "daytime_buyers.plot(kind='box')\n",
    "plt.title('Distribution of Daytime Buyers Revenue')\n",
    "plt.show()"
   ]
  },
  {
   "cell_type": "markdown",
   "metadata": {},
   "source": [
    "Here we can see that the majority of users are purchasing on the website between 8am and 3pm as well as during the evening after 4pm.\n",
    "\n",
    "Therefore, this opens up our <b>second hypothesis</b>:\n",
    "\n",
    "- H0: Customers who purchased products late at night/evening were more valuable to the business.\n",
    "\n",
    "- H1: There was no significant difference between the value of customers at time intervals."
   ]
  },
  {
   "cell_type": "markdown",
   "metadata": {},
   "source": [
    "## Additional Exploratory Analysis\n",
    "\n",
    "As part of the main exploratory analysis, we will be focusing on three important topics. We will look first at a time series analysis and exploring the total revenue per month, the total customers per month and the average invoice value per month. We will also analyse returning customers and new customers by determining the frequancy of purchase, average time between purchases and the lifetime value of customers. \n",
    "\n",
    "Understanding the behavior of new and returning customers can help refine marketing strategies, enhance customer engagement initiatives, and foster long-term customer relationships. After completion of our exploration we will declare our hypothesis and perform a test to monitor the results.\n",
    "\n",
    "1) Time series analysis: \n",
    "- Total revenue per month. By product category\n",
    "- Total revenue by season period\n",
    "- Total customers and repeat customers per month with the proportion. \n",
    "\n",
    "2) Distribution analysis:\n",
    "- Plot distribution of unit price by category (boxplot).\n",
    "- Histogram with total value.\n",
    "- Plot quantity per order (boxplot) \n",
    "\n",
    "2) Returning customer analysis: \n",
    "- Explore the customers who made repeat purchases over time.\n",
    "- Calculate metrics such as frequancy of purchase, \n",
    "- Average time between purchases \n",
    "- The lifetime value of the returning customers"
   ]
  },
  {
   "cell_type": "markdown",
   "metadata": {},
   "source": [
    "### Time series analysis"
   ]
  },
  {
   "cell_type": "code",
   "execution_count": 67,
   "metadata": {
    "scrolled": true
   },
   "outputs": [
    {
     "data": {
      "image/png": "[encoded data removed]",
      "text/plain": [
       "<Figure size 720x360 with 1 Axes>"
      ]
     },
     "metadata": {},
     "output_type": "display_data"
    }
   ],
   "source": [
    "# monthly revenue\n",
    "revenue_monthly=new_data.groupby('invoicemonth').agg(\n",
    "    {'total_value':'sum'}).reset_index().rename(\n",
    "    columns={'total_value':'total_revenue'})\n",
    "revenue_monthly['percentage_growth']=revenue_monthly['total_revenue'].pct_change()\n",
    "fig, ax = plt.subplots(figsize=(10,5),facecolor=facecolor)\n",
    "sns.lineplot(data=revenue_monthly, x='invoicemonth', y='percentage_growth')\n",
    "ax.set_title(\"Monthly Revenue Growth\")\n",
    "plt.show()"
   ]
  },
  {
   "cell_type": "code",
   "execution_count": 68,
   "metadata": {},
   "outputs": [
    {
     "data": {
      "image/png": "[encoded data removed]",
      "text/plain": [
       "<Figure size 720x360 with 1 Axes>"
      ]
     },
     "metadata": {},
     "output_type": "display_data"
    }
   ],
   "source": [
    "# month total sales\n",
    "# monthly revenue\n",
    "customers_monthly=new_data.groupby('invoicemonth').agg(\n",
    "    {'customerid':'nunique'}).reset_index().rename(\n",
    "    columns={'customerid':'customer_nu'})\n",
    "customers_monthly['percentage_growth']=customers_monthly['customer_nu'].pct_change()\n",
    "fig, ax = plt.subplots(figsize=(10,5),facecolor=facecolor)\n",
    "sns.lineplot(data=customers_monthly, x='invoicemonth', y='percentage_growth')\n",
    "ax.set_title(\"Monthly Customer Growth\")\n",
    "plt.show()"
   ]
  },
  {
   "cell_type": "markdown",
   "metadata": {},
   "source": [
    "Our time series analysis shows volatilitiy in the growth of customers and in terms of revenue the growth was consistent throughout the year. However, there was a sharp decline by 80% during December. This could also be due to seasonal issues and less orders due to limited postal services over the holiday season."
   ]
  },
  {
   "cell_type": "code",
   "execution_count": 69,
   "metadata": {},
   "outputs": [
    {
     "data": {
      "text/html": [
       "<div>\n",
       "<style scoped>\n",
       "    .dataframe tbody tr th:only-of-type {\n",
       "        vertical-align: middle;\n",
       "    }\n",
       "\n",
       "    .dataframe tbody tr th {\n",
       "        vertical-align: top;\n",
       "    }\n",
       "\n",
       "    .dataframe thead th {\n",
       "        text-align: right;\n",
       "    }\n",
       "</style>\n",
       "<table border=\"1\" class=\"dataframe\">\n",
       "  <thead>\n",
       "    <tr style=\"text-align: right;\">\n",
       "      <th></th>\n",
       "      <th>customerid</th>\n",
       "      <th>orders</th>\n",
       "    </tr>\n",
       "  </thead>\n",
       "  <tbody>\n",
       "    <tr>\n",
       "      <th>count</th>\n",
       "      <td>15963.000000</td>\n",
       "      <td>15963.000000</td>\n",
       "    </tr>\n",
       "    <tr>\n",
       "      <th>mean</th>\n",
       "      <td>15211.916494</td>\n",
       "      <td>17.494143</td>\n",
       "    </tr>\n",
       "    <tr>\n",
       "      <th>std</th>\n",
       "      <td>1711.511070</td>\n",
       "      <td>37.324164</td>\n",
       "    </tr>\n",
       "    <tr>\n",
       "      <th>min</th>\n",
       "      <td>12349.000000</td>\n",
       "      <td>2.000000</td>\n",
       "    </tr>\n",
       "    <tr>\n",
       "      <th>25%</th>\n",
       "      <td>13735.000000</td>\n",
       "      <td>3.000000</td>\n",
       "    </tr>\n",
       "    <tr>\n",
       "      <th>50%</th>\n",
       "      <td>15150.000000</td>\n",
       "      <td>7.000000</td>\n",
       "    </tr>\n",
       "    <tr>\n",
       "      <th>75%</th>\n",
       "      <td>16669.000000</td>\n",
       "      <td>21.000000</td>\n",
       "    </tr>\n",
       "    <tr>\n",
       "      <th>max</th>\n",
       "      <td>18287.000000</td>\n",
       "      <td>2335.000000</td>\n",
       "    </tr>\n",
       "  </tbody>\n",
       "</table>\n",
       "</div>"
      ],
      "text/plain": [
       "         customerid        orders\n",
       "count  15963.000000  15963.000000\n",
       "mean   15211.916494     17.494143\n",
       "std     1711.511070     37.324164\n",
       "min    12349.000000      2.000000\n",
       "25%    13735.000000      3.000000\n",
       "50%    15150.000000      7.000000\n",
       "75%    16669.000000     21.000000\n",
       "max    18287.000000   2335.000000"
      ]
     },
     "execution_count": 69,
     "metadata": {},
     "output_type": "execute_result"
    }
   ],
   "source": [
    "# Find customers with more than one invoice per month and plot \n",
    "customer_orders=new_data.groupby(['invoicemonth','customerid'])['invoiceno'].count().reset_index().rename(columns={'invoiceno':'orders'})\n",
    "repeat_customers=customer_orders[customer_orders['orders']>1]\n",
    "repeat_customers.describe()"
   ]
  },
  {
   "cell_type": "code",
   "execution_count": 70,
   "metadata": {},
   "outputs": [
    {
     "data": {
      "text/html": [
       "<div>\n",
       "<style scoped>\n",
       "    .dataframe tbody tr th:only-of-type {\n",
       "        vertical-align: middle;\n",
       "    }\n",
       "\n",
       "    .dataframe tbody tr th {\n",
       "        vertical-align: top;\n",
       "    }\n",
       "\n",
       "    .dataframe thead th {\n",
       "        text-align: right;\n",
       "    }\n",
       "</style>\n",
       "<table border=\"1\" class=\"dataframe\">\n",
       "  <thead>\n",
       "    <tr style=\"text-align: right;\">\n",
       "      <th></th>\n",
       "      <th>customerid</th>\n",
       "      <th>orders</th>\n",
       "    </tr>\n",
       "  </thead>\n",
       "  <tbody>\n",
       "    <tr>\n",
       "      <th>count</th>\n",
       "      <td>23305.000000</td>\n",
       "      <td>23305.000000</td>\n",
       "    </tr>\n",
       "    <tr>\n",
       "      <th>mean</th>\n",
       "      <td>15212.585068</td>\n",
       "      <td>12.297833</td>\n",
       "    </tr>\n",
       "    <tr>\n",
       "      <th>std</th>\n",
       "      <td>1718.927944</td>\n",
       "      <td>31.826157</td>\n",
       "    </tr>\n",
       "    <tr>\n",
       "      <th>min</th>\n",
       "      <td>12346.000000</td>\n",
       "      <td>1.000000</td>\n",
       "    </tr>\n",
       "    <tr>\n",
       "      <th>25%</th>\n",
       "      <td>13725.000000</td>\n",
       "      <td>1.000000</td>\n",
       "    </tr>\n",
       "    <tr>\n",
       "      <th>50%</th>\n",
       "      <td>15164.000000</td>\n",
       "      <td>3.000000</td>\n",
       "    </tr>\n",
       "    <tr>\n",
       "      <th>75%</th>\n",
       "      <td>16672.000000</td>\n",
       "      <td>13.000000</td>\n",
       "    </tr>\n",
       "    <tr>\n",
       "      <th>max</th>\n",
       "      <td>18287.000000</td>\n",
       "      <td>2335.000000</td>\n",
       "    </tr>\n",
       "  </tbody>\n",
       "</table>\n",
       "</div>"
      ],
      "text/plain": [
       "         customerid        orders\n",
       "count  23305.000000  23305.000000\n",
       "mean   15212.585068     12.297833\n",
       "std     1718.927944     31.826157\n",
       "min    12346.000000      1.000000\n",
       "25%    13725.000000      1.000000\n",
       "50%    15164.000000      3.000000\n",
       "75%    16672.000000     13.000000\n",
       "max    18287.000000   2335.000000"
      ]
     },
     "execution_count": 70,
     "metadata": {},
     "output_type": "execute_result"
    }
   ],
   "source": [
    "customer_orders.describe()"
   ]
  },
  {
   "cell_type": "code",
   "execution_count": 71,
   "metadata": {},
   "outputs": [
    {
     "data": {
      "text/plain": [
       "0.684960308946578"
      ]
     },
     "execution_count": 71,
     "metadata": {},
     "output_type": "execute_result"
    }
   ],
   "source": [
    "len(repeat_customers)/len(customer_orders)"
   ]
  },
  {
   "cell_type": "markdown",
   "metadata": {},
   "source": [
    "Upon observation we have 15963 repeat customers, which is 68% of all customers who made an order, there is on average 17 orders and 75% of our customers here have up to 21 orders per month. Therefore, suggesting that we have a good number of loyal customers who regularly return to our website. Below, we will look deeping into returning customers and try to determine our lifetime value."
   ]
  },
  {
   "cell_type": "markdown",
   "metadata": {},
   "source": [
    "### Distribution Analysis"
   ]
  },
  {
   "cell_type": "code",
   "execution_count": 72,
   "metadata": {},
   "outputs": [
    {
     "name": "stdout",
     "output_type": "stream",
     "text": [
      "Q1:1.25\n",
      "Q3:4.13\n",
      "IQR:2.88mean:3.22267679805723\n",
      "Median:2.08\n",
      "Standard Deviation:4.630389056372479\n"
     ]
    },
    {
     "data": {
      "image/png": "[encoded data removed]",
      "text/plain": [
       "<Figure size 720x360 with 2 Axes>"
      ]
     },
     "metadata": {},
     "output_type": "display_data"
    }
   ],
   "source": [
    "# Box plot unit price\n",
    "medianup=np.median(new_data['unitprice'])\n",
    "meanup=np.mean(new_data['unitprice'])\n",
    "stdup=np.std(new_data['unitprice'])\n",
    "Q1=new_data['unitprice'].quantile(0.25)\n",
    "Q3=new_data['unitprice'].quantile(0.75)\n",
    "IQR=Q3-Q1\n",
    "print(f\"Q1:{Q1}\\nQ3:{Q3}\\nIQR:{IQR}mean:{meanup}\\nMedian:{medianup}\\nStandard Deviation:{stdup}\")\n",
    "\n",
    "fig, axes = plt.subplots(1,2, figsize=(10,5),facecolor=facecolor)\n",
    "axes[0].boxplot(new_data['unitprice'], showmeans=True, showfliers=True,whis=1.5)\n",
    "axes[0].set_title('Distribution of Unit Price')\n",
    "axes[1].boxplot(new_data['unitprice'], showmeans=True, showfliers=False,whis=1.5)\n",
    "axes[1].set_title('Distribution of Unit Price without outliers')\n",
    "plt.show()"
   ]
  },
  {
   "cell_type": "markdown",
   "metadata": {},
   "source": [
    "As you can tell our product prices are unevenly distributed and the majority of our products sit within the interquartile range with a variation of 3.23. \n",
    "\n",
    "The media unit price is 2.08 and there are a few more overpriced products over the 100 dollar mark. Although, we cleaned our data to remove non-products, manual entries and shipping from our dataframe earlier on to focus solely on actual sales. "
   ]
  },
  {
   "cell_type": "code",
   "execution_count": 73,
   "metadata": {},
   "outputs": [
    {
     "data": {
      "image/png": "[encoded data removed]",
      "text/plain": [
       "<Figure size 720x360 with 1 Axes>"
      ]
     },
     "metadata": {},
     "output_type": "display_data"
    }
   ],
   "source": [
    "# Histogram total value\n",
    "fig, ax=plt.subplots(figsize=(10,5),facecolor=facecolor)\n",
    "sns.barplot(data=revenue_monthly, y='total_revenue',x='invoicemonth')\n",
    "plt.title('Distribution of Revenue per month')\n",
    "plt.xticks(rotation=90)\n",
    "plt.tight_layout()\n",
    "plt.show()"
   ]
  },
  {
   "cell_type": "markdown",
   "metadata": {},
   "source": [
    "Despite the highest growth being in May 2019, our best performing month for total revenue was November 2019 when we took in over over 1.4m dollars, a significant increase compared to earlier in the year. "
   ]
  },
  {
   "cell_type": "markdown",
   "metadata": {},
   "source": [
    "### Returning customer analysis"
   ]
  },
  {
   "cell_type": "markdown",
   "metadata": {},
   "source": [
    "Here we will make a cohort analyse of our customers to understand retention patterns and determine the life time value of our customers and which cohort performed best throughout the year. This will help us understand best performing periods and which products impacted the cohorts."
   ]
  },
  {
   "cell_type": "code",
   "execution_count": 74,
   "metadata": {},
   "outputs": [],
   "source": [
    "cohort_sizes = (\n",
    "    new_data.groupby('first_order_month')\n",
    "    .agg({'customerid': 'nunique'})\n",
    "    .reset_index()\n",
    ")\n",
    "cohort_sizes.columns = ['first_order_month', 'n_buyers']"
   ]
  },
  {
   "cell_type": "code",
   "execution_count": 75,
   "metadata": {},
   "outputs": [],
   "source": [
    "cohorts = new_data.groupby(\n",
    "    ['first_order_month','invoicemonth']).agg(\n",
    "    {'total_value': 'sum'}).reset_index().rename(\n",
    "    columns={'total_value':'total_revenue'})"
   ]
  },
  {
   "cell_type": "code",
   "execution_count": 76,
   "metadata": {},
   "outputs": [],
   "source": [
    "# Create Cohort Report, we will use a 0.4 margin rate for this calculation as we don't have profit margin details\n",
    "margin_rate = 0.4\n",
    "\n",
    "cohort_report=pd.merge(cohort_sizes, cohorts, on='first_order_month')\n",
    "cohort_report['gross_profit']=cohort_report['total_revenue'] * margin_rate\n",
    "cohort_report['age']=(cohort_report['invoicemonth'] - cohort_report['first_order_month']) / np.timedelta64(1,'M')\n",
    "cohort_report.loc[cohort_report['age'] < 0, 'age'] = 0\n",
    "cohort_report['age']=cohort_report['age'].round().astype('int')\n",
    "cohort_report['ltv']=cohort_report['gross_profit'] / cohort_report['n_buyers']"
   ]
  },
  {
   "cell_type": "code",
   "execution_count": 77,
   "metadata": {},
   "outputs": [
    {
     "data": {
      "image/png": "[encoded data removed]",
      "text/plain": [
       "<Figure size 1080x720 with 2 Axes>"
      ]
     },
     "metadata": {},
     "output_type": "display_data"
    }
   ],
   "source": [
    "ltv_table= cohort_report.pivot_table(index='first_order_month',columns='age',values='ltv',aggfunc='mean').round()\n",
    "ltv_table.fillna(0, inplace=True)\n",
    "fig, ax = plt.subplots(figsize=(15,10), facecolor=facecolor)\n",
    "sns.heatmap(ltv_table, cmap=\"Blues\", annot=True, linecolor='black', linewidths=1, fmt='0')\n",
    "ax.set_title('Heatmap for Customer Lifetime Value (LTV USD$)')\n",
    "plt.show()"
   ]
  },
  {
   "cell_type": "markdown",
   "metadata": {},
   "source": [
    "Above we have a cohort analysis for the lifetime value shows that customers who purchased in each month and how valuable these customers became to use throughout the year. As we started earlier, we are only focusing on January 2019 until the end of 2019.\n",
    "\n",
    "Our observations tell us that our customers who first purchased in January 2019 were most valuable and maintain an LTV over 50 dollars per month on average. Another valuable cohort are the users who first purchased in May 2015. The 7th month (December) in this cohort was one of the most value with our average LTV being 243 dollars."
   ]
  },
  {
   "cell_type": "markdown",
   "metadata": {},
   "source": [
    "### Exploration Conclusions\n",
    "- Summarise the findings\n",
    "- List all our hypothesis here for testing"
   ]
  },
  {
   "cell_type": "markdown",
   "metadata": {},
   "source": [
    "## Statistical Analysis & Hypothesis testing\n",
    "\n",
    "Hypothesis 1:\n",
    "\n",
    "- H0: Cookware items have a higher average revenue per invoice then other categories.\n",
    "\n",
    "- H1: There is no significant difference between the revenue in the categories.\n",
    "\n",
    "Hypothesis 2:\n",
    "\n",
    "- H0: Customers who purchased products in the evening or late at night were more valuable to the business.\n",
    "\n",
    "- H1: There was no significant difference between the value of customers at time intervals.\n",
    "\n",
    "Hypothesis 3: \n",
    "\n",
    "- H0: There were more valuable users with a higher LTV in the first half of the year compared to the second.\n",
    "\n",
    "- H1: There was no statistical significance between the customers lifetime values during these months."
   ]
  },
  {
   "cell_type": "markdown",
   "metadata": {},
   "source": [
    "### Hpothesis 1 - Cookware items Vs. Other Categories\n",
    "\n",
    "As we are comparing two independent groups where the distributions are different we will use the Mann-Whitney U Test. This is a non-parametric that that is suitable for our test that pits the probability of one category being more valuable than another."
   ]
  },
  {
   "cell_type": "code",
   "execution_count": 78,
   "metadata": {},
   "outputs": [],
   "source": [
    "# Split into groups for hypothesis\n",
    "ordersCookware = new_data[new_data['productcat'] == 'Kitchen and Cookware'].groupby(\n",
    "    'invoiceno', as_index=False).agg({'total_value': 'mean'})\n",
    "ordersCookware.columns = ['invoiceid', 'median_rev']\n",
    "ordersCookware.drop(columns=['invoiceid'],inplace=True)"
   ]
  },
  {
   "cell_type": "code",
   "execution_count": 79,
   "metadata": {},
   "outputs": [],
   "source": [
    "ordersOtherCat = new_data[new_data['productcat'] != 'Kitchen and Cookware'].groupby(\n",
    "    'invoiceno', as_index=False).agg({'total_value': 'mean'})\n",
    "ordersOtherCat.columns = ['invoiceid', 'median_rev']\n",
    "ordersOtherCat.drop(columns=['invoiceid'], inplace=True)"
   ]
  },
  {
   "cell_type": "code",
   "execution_count": 80,
   "metadata": {},
   "outputs": [
    {
     "name": "stdout",
     "output_type": "stream",
     "text": [
      "p-value [2.89205706e-50]\n",
      "Cookware items have a higher average revenue per invoice then other categories.\n"
     ]
    }
   ],
   "source": [
    "# Make the test\n",
    "h0 = \"Cookware items have a higher average revenue per invoice then other categories.\"\n",
    "h1 = \"There is no significant difference between the revenue in the categories.\"\n",
    "\n",
    "alpha = 0.05\n",
    "results = stats.mannwhitneyu(ordersCookware, ordersOtherCat)\n",
    "print(\"p-value\",results.pvalue)\n",
    "if (results.pvalue < alpha):\n",
    "    print(h0)\n",
    "else:\n",
    "    print(h1)"
   ]
  },
  {
   "cell_type": "markdown",
   "metadata": {},
   "source": [
    "Based on the above the p-value is significantly higher than the alpha, suggesting that there is a strong statistical signifcance between the categories and that there is a strong probability that cookware items are more valuable than the other categories."
   ]
  },
  {
   "cell_type": "markdown",
   "metadata": {},
   "source": [
    "### Hypothesis 2 - Time of day test\n",
    "\n",
    "The distributions are right skewed for both of our samples as we displayed above when we assessed the users by time of day which is our daytime column where we have values of 0,1 and 2 based on the hours."
   ]
  },
  {
   "cell_type": "code",
   "execution_count": 81,
   "metadata": {},
   "outputs": [
    {
     "name": "stdout",
     "output_type": "stream",
     "text": [
      "p-value 0.0008659677495464135\n",
      "Customers who purchased products in the evening or late at night were more valuable to the business.\n"
     ]
    }
   ],
   "source": [
    "# Make the test\n",
    "h0 = \"Customers who purchased products in the evening or late at night were more valuable to the business.\"\n",
    "h1 = \"There was no significant difference between the value of customers at time intervals.\"\n",
    "\n",
    "alpha = 0.05\n",
    "results = stats.ttest_ind(late_buyers, daytime_buyers)\n",
    "print(\"p-value\",results.pvalue)\n",
    "if (results.pvalue < alpha):\n",
    "    print(h0)\n",
    "else:\n",
    "    print(h1)"
   ]
  },
  {
   "cell_type": "markdown",
   "metadata": {},
   "source": [
    "Based on the statistical test there is a difference between the two groups as the p-value is less than the alpha. This means that there is a high probability that we will support our null hypothesis that customers who purchased late at night our in the evening (after 4pm until 7am) were more valuable in terms of revenue."
   ]
  },
  {
   "cell_type": "code",
   "execution_count": 82,
   "metadata": {},
   "outputs": [],
   "source": [
    "cohort_report\n",
    "Jan_june=cohort_report.loc[cohort_report['first_order_month']<'2019-07-01', 'ltv']\n",
    "jul_dec=cohort_report.loc[cohort_report['first_order_month']>'2019-07-01', 'ltv']"
   ]
  },
  {
   "cell_type": "code",
   "execution_count": 83,
   "metadata": {},
   "outputs": [
    {
     "data": {
      "text/plain": [
       "<AxesSubplot:ylabel='Frequency'>"
      ]
     },
     "execution_count": 83,
     "metadata": {},
     "output_type": "execute_result"
    },
    {
     "data": {
      "image/png": "[encoded data removed]",
      "text/plain": [
       "<Figure size 432x288 with 1 Axes>"
      ]
     },
     "metadata": {},
     "output_type": "display_data"
    }
   ],
   "source": [
    "Jan_june.plot(kind='hist')"
   ]
  },
  {
   "cell_type": "code",
   "execution_count": 84,
   "metadata": {},
   "outputs": [
    {
     "data": {
      "text/plain": [
       "<AxesSubplot:ylabel='Frequency'>"
      ]
     },
     "execution_count": 84,
     "metadata": {},
     "output_type": "execute_result"
    },
    {
     "data": {
      "image/png": "[encoded data removed]",
      "text/plain": [
       "<Figure size 432x288 with 1 Axes>"
      ]
     },
     "metadata": {},
     "output_type": "display_data"
    }
   ],
   "source": [
    "jul_dec.plot(kind='hist')"
   ]
  },
  {
   "cell_type": "markdown",
   "metadata": {},
   "source": [
    "### Hypothesis 3: Lifetime value test\n",
    "\n",
    "H0: There were more valuable users with a higher LTV in the first half of the year compared to the second.\n",
    "\n",
    "H1: There was no statistical significance between the customers lifetime values during these months."
   ]
  },
  {
   "cell_type": "code",
   "execution_count": 85,
   "metadata": {},
   "outputs": [
    {
     "name": "stdout",
     "output_type": "stream",
     "text": [
      "p-value 0.00655559540158631\n",
      "There were more valuable users with a higher LTV in the first half of the year compared to the second.\n"
     ]
    }
   ],
   "source": [
    "# Make the test\n",
    "h0 = \"There were more valuable users with a higher LTV in the first half of the year compared to the second.\"\n",
    "h1 = \"There was no statistical significance between the customers lifetime values during these months.\"\n",
    "\n",
    "alpha = 0.05\n",
    "results = stats.ttest_ind(Jan_june, jul_dec)\n",
    "print(\"p-value\",results.pvalue)\n",
    "if (results.pvalue < alpha):\n",
    "    print(h0)\n",
    "else:\n",
    "    print(h1)"
   ]
  },
  {
   "cell_type": "markdown",
   "metadata": {},
   "source": [
    "For the third hypothesis we do not reject the null hypothesis as there is a high probability that the users at the start of the year had a higher LTV than those at the end of the year. These results are aligned to the above trend charts that portrayed the sales and customer growth as well as our LTV heatmap which displayed users in our first few cohorts as most valuable."
   ]
  },
  {
   "cell_type": "markdown",
   "metadata": {},
   "source": [
    "# Conclusions and Business Recommendations\n",
    "\n",
    "### Conclusions\n",
    "\n",
    "In conclusion, we have observed that our homeware and kitchen items tend to be most popular in our online store compared to other categories, and our statistical test has indicated a high probability that kitchen items are more valuable than other categories.\n",
    "\n",
    "Our sales and customer growth remained stable and positive throughout the year, which is a positive sign. However, in December 2019, we experienced a significant decline. On the other hand, the customer lifetime value was primarily distributed between 10 and 100 dollars, with a few higher-priced customers driving our average LTV over \\$250 dollars.\n",
    "\n",
    "Previously, we conducted a sales growth analysis and main distribution using lemmatisation to categorise our product descriptions. While this method provided a moderate level of insight, it offered only a general idea about each product's main category, leaving us with a large number of miscellaneous items.\n",
    "\n",
    "### Recommendations for Marketing\n",
    "\n",
    "- For remarketing campaigns, we should promote multi-pack products in the homeware categories to increase order quantities, particularly where we have low unit prices. This strategy will help boost revenue.\n",
    "\n",
    "- We should focus our marketing efforts on encouraging repeat purchases when customers buy multi-packs. Sending them reminders every few months to restock can be effective.\n",
    "\n",
    "- Focus on the holiday seasons\n"
   ]
  }
 ],
 "metadata": {
  "kernelspec": {
   "display_name": "Python 3 (ipykernel)",
   "language": "python",
   "name": "python3"
  },
  "language_info": {
   "codemirror_mode": {
    "name": "ipython",
    "version": 3
   },
   "file_extension": ".py",
   "mimetype": "text/x-python",
   "name": "python",
   "nbconvert_exporter": "python",
   "pygments_lexer": "ipython3",
   "version": "3.9.5"
  },
  "toc": {
   "base_numbering": 1,
   "nav_menu": {
    "height": "503px",
    "width": "539px"
   },
   "number_sections": true,
   "sideBar": true,
   "skip_h1_title": true,
   "title_cell": "Table of Contents",
   "title_sidebar": "Contents",
   "toc_cell": false,
   "toc_position": {},
   "toc_section_display": true,
   "toc_window_display": false
  }
 },
 "nbformat": 4,
 "nbformat_minor": 2
}
